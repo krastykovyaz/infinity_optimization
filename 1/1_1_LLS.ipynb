{
  "nbformat": 4,
  "nbformat_minor": 0,
  "metadata": {
    "colab": {
      "name": "1_1 - LLS.ipynb",
      "provenance": []
    },
    "kernelspec": {
      "name": "python3",
      "display_name": "Python 3"
    },
    "language_info": {
      "name": "python"
    }
  },
  "cells": [
    {
      "cell_type": "markdown",
      "metadata": {
        "id": "wyp17ZFOQD_1"
      },
      "source": [
        "# Linear Least Squares"
      ]
    },
    {
      "cell_type": "markdown",
      "metadata": {
        "id": "cLu9fVqSQQsn"
      },
      "source": [
        "## Simplest case\n"
      ]
    },
    {
      "cell_type": "markdown",
      "metadata": {
        "id": "AW3aqMbkll52"
      },
      "source": [
        "We will consider simple real example of linear regression on World Bank data."
      ]
    },
    {
      "cell_type": "code",
      "metadata": {
        "colab": {
          "base_uri": "https://localhost:8080/",
          "height": 258
        },
        "id": "UgLCVY82P87N",
        "outputId": "5c8c41ea-f540-442e-f278-0a299f3d549d"
      },
      "source": [
        "# World bank data https://data.worldbank.org/\n",
        "import pandas as pd\n",
        "import numpy as np\n",
        "from matplotlib import pyplot as plt\n",
        "\n",
        "dataset = pd.read_csv('https://raw.githubusercontent.com/MerkulovDaniil/sber21_fmin/sources/data/world_bank_data.csv')\n",
        "dataset.tail()"
      ],
      "execution_count": 31,
      "outputs": [
        {
          "output_type": "execute_result",
          "data": {
            "text/html": [
              "<div>\n",
              "<style scoped>\n",
              "    .dataframe tbody tr th:only-of-type {\n",
              "        vertical-align: middle;\n",
              "    }\n",
              "\n",
              "    .dataframe tbody tr th {\n",
              "        vertical-align: top;\n",
              "    }\n",
              "\n",
              "    .dataframe thead th {\n",
              "        text-align: right;\n",
              "    }\n",
              "</style>\n",
              "<table border=\"1\" class=\"dataframe\">\n",
              "  <thead>\n",
              "    <tr style=\"text-align: right;\">\n",
              "      <th></th>\n",
              "      <th>Country</th>\n",
              "      <th>Code</th>\n",
              "      <th>Year</th>\n",
              "      <th>gdpPerCap</th>\n",
              "      <th>literacy</th>\n",
              "      <th>popDensity</th>\n",
              "      <th>under_slum</th>\n",
              "      <th>below_poverty</th>\n",
              "      <th>Import</th>\n",
              "      <th>Export</th>\n",
              "      <th>Corruption</th>\n",
              "      <th>GovEff</th>\n",
              "      <th>PolSta</th>\n",
              "      <th>adult_mortality</th>\n",
              "      <th>Male</th>\n",
              "      <th>Female</th>\n",
              "    </tr>\n",
              "  </thead>\n",
              "  <tbody>\n",
              "    <tr>\n",
              "      <th>12052</th>\n",
              "      <td>Kosovo</td>\n",
              "      <td>XKX</td>\n",
              "      <td>2018</td>\n",
              "      <td>4302.276483</td>\n",
              "      <td>NaN</td>\n",
              "      <td>NaN</td>\n",
              "      <td>NaN</td>\n",
              "      <td>NaN</td>\n",
              "      <td>NaN</td>\n",
              "      <td>NaN</td>\n",
              "      <td>-0.519039</td>\n",
              "      <td>-0.428305</td>\n",
              "      <td>-0.605489</td>\n",
              "      <td>NaN</td>\n",
              "      <td>NaN</td>\n",
              "      <td>NaN</td>\n",
              "    </tr>\n",
              "    <tr>\n",
              "      <th>12053</th>\n",
              "      <td>Yemen, Rep.</td>\n",
              "      <td>YEM</td>\n",
              "      <td>2018</td>\n",
              "      <td>944.408499</td>\n",
              "      <td>NaN</td>\n",
              "      <td>53.977853</td>\n",
              "      <td>NaN</td>\n",
              "      <td>NaN</td>\n",
              "      <td>NaN</td>\n",
              "      <td>NaN</td>\n",
              "      <td>-1.637971</td>\n",
              "      <td>-2.244354</td>\n",
              "      <td>-3.002496</td>\n",
              "      <td>NaN</td>\n",
              "      <td>NaN</td>\n",
              "      <td>NaN</td>\n",
              "    </tr>\n",
              "    <tr>\n",
              "      <th>12054</th>\n",
              "      <td>South Africa</td>\n",
              "      <td>ZAF</td>\n",
              "      <td>2018</td>\n",
              "      <td>6374.028196</td>\n",
              "      <td>NaN</td>\n",
              "      <td>47.630120</td>\n",
              "      <td>NaN</td>\n",
              "      <td>NaN</td>\n",
              "      <td>NaN</td>\n",
              "      <td>NaN</td>\n",
              "      <td>-0.021569</td>\n",
              "      <td>0.340379</td>\n",
              "      <td>-0.276673</td>\n",
              "      <td>NaN</td>\n",
              "      <td>NaN</td>\n",
              "      <td>NaN</td>\n",
              "    </tr>\n",
              "    <tr>\n",
              "      <th>12055</th>\n",
              "      <td>Zambia</td>\n",
              "      <td>ZMB</td>\n",
              "      <td>2018</td>\n",
              "      <td>1539.900158</td>\n",
              "      <td>86.74796</td>\n",
              "      <td>23.341479</td>\n",
              "      <td>NaN</td>\n",
              "      <td>NaN</td>\n",
              "      <td>NaN</td>\n",
              "      <td>NaN</td>\n",
              "      <td>-0.656137</td>\n",
              "      <td>-0.559209</td>\n",
              "      <td>0.141994</td>\n",
              "      <td>NaN</td>\n",
              "      <td>NaN</td>\n",
              "      <td>NaN</td>\n",
              "    </tr>\n",
              "    <tr>\n",
              "      <th>12056</th>\n",
              "      <td>Zimbabwe</td>\n",
              "      <td>ZWE</td>\n",
              "      <td>2018</td>\n",
              "      <td>2146.996385</td>\n",
              "      <td>NaN</td>\n",
              "      <td>37.324591</td>\n",
              "      <td>NaN</td>\n",
              "      <td>NaN</td>\n",
              "      <td>NaN</td>\n",
              "      <td>NaN</td>\n",
              "      <td>-1.235616</td>\n",
              "      <td>-1.198860</td>\n",
              "      <td>-0.707054</td>\n",
              "      <td>NaN</td>\n",
              "      <td>NaN</td>\n",
              "      <td>NaN</td>\n",
              "    </tr>\n",
              "  </tbody>\n",
              "</table>\n",
              "</div>"
            ],
            "text/plain": [
              "            Country Code  Year  ...  adult_mortality  Male  Female\n",
              "12052        Kosovo  XKX  2018  ...              NaN   NaN     NaN\n",
              "12053   Yemen, Rep.  YEM  2018  ...              NaN   NaN     NaN\n",
              "12054  South Africa  ZAF  2018  ...              NaN   NaN     NaN\n",
              "12055        Zambia  ZMB  2018  ...              NaN   NaN     NaN\n",
              "12056      Zimbabwe  ZWE  2018  ...              NaN   NaN     NaN\n",
              "\n",
              "[5 rows x 16 columns]"
            ]
          },
          "metadata": {},
          "execution_count": 31
        }
      ]
    },
    {
      "cell_type": "markdown",
      "metadata": {
        "id": "jiB4h7rzn9W8"
      },
      "source": [
        "Suppose, we are given the set of $m$ pairs $(x_i, y_i)_{i=1}^m$. We are to construct linear predictions of the following form:\n",
        "\n",
        "$$\n",
        "y_i^{pred} = k x_i\n",
        "$$\n",
        "\n",
        "We will start with the simple example of Import/Export prediction:"
      ]
    },
    {
      "cell_type": "code",
      "metadata": {
        "colab": {
          "base_uri": "https://localhost:8080/",
          "height": 295
        },
        "id": "-4YseAomfiaI",
        "outputId": "4b0a8619-bfdb-4ffe-812e-8ee705c5477a"
      },
      "source": [
        "y_variable = 'Import'\n",
        "x_variable = 'Export'\n",
        "clean_data = dataset[[x_variable, y_variable]].dropna()\n",
        "plt.scatter(clean_data[x_variable], clean_data[y_variable])\n",
        "plt.xlabel(x_variable)\n",
        "plt.ylabel(y_variable)\n",
        "plt.title('World bank data')\n",
        "plt.show()"
      ],
      "execution_count": 4,
      "outputs": [
        {
          "output_type": "display_data",
          "data": {
            "image/png": "[encoded data removed]",
            "text/plain": [
              "<Figure size 432x288 with 1 Axes>"
            ]
          },
          "metadata": {
            "needs_background": "light"
          }
        }
      ]
    },
    {
      "cell_type": "markdown",
      "metadata": {
        "id": "KZRfuJ3Foin6"
      },
      "source": [
        "We need to select hyperparameters $k$, that minimize sum of squared errors:\n",
        "\n",
        "$$ \\tag{Loss}\n",
        "L(k) = \\sum\\limits_{i=1}^m (y_i^{pred} - y_i)^2 = \\sum\\limits_{i=1}^m (kx_i - y_i)^2 \\to \\min_{k \\in \\mathbb{R}}\n",
        "$$\n",
        "\n",
        "Write down the following derivative of the loss function:\n",
        "* $\\frac{\\partial L}{\\partial k} = $\n",
        "\n",
        "Find the optimal value of $k$ from setting the corresponding derivative to zero:\n",
        "* $\\frac{\\partial L}{\\partial k} = 0 \\rightarrow k = $\\frac{\\partial \\sum\\limits_{i=1}^m y_i}{\\partial \\sum\\limits_{i=1}^m x_i} $ "
      ]
    },
    {
      "cell_type": "code",
      "metadata": {
        "colab": {
          "base_uri": "https://localhost:8080/",
          "height": 295
        },
        "id": "HjzviKsTsgoQ",
        "outputId": "754621aa-a3f7-4b40-d93a-1fb52996030e"
      },
      "source": [
        "y_variable = 'Import'\n",
        "x_variable = 'Export'\n",
        "\n",
        "clean_data = dataset[[x_variable, y_variable]].dropna()\n",
        "\n",
        "x_data = clean_data[x_variable]\n",
        "y_data = clean_data[y_variable]\n",
        "\n",
        "#=== Write down optimal k here ===\n",
        "k = y_data.sum() / x_data.sum()\n",
        "#=================================\n",
        "y_pred = k*x_data\n",
        "\n",
        "plt.scatter(x_data, y_data, label = 'True')\n",
        "plt.plot(x_data, y_pred, 'r-', label = 'Linear approximation')\n",
        "\n",
        "plt.xlabel(x_variable)\n",
        "plt.ylabel(y_variable)\n",
        "plt.title('World bank data')\n",
        "plt.legend()\n",
        "plt.show()"
      ],
      "execution_count": 12,
      "outputs": [
        {
          "output_type": "display_data",
          "data": {
            "image/png": "[encoded data removed]",
            "text/plain": [
              "<Figure size 432x288 with 1 Axes>"
            ]
          },
          "metadata": {
            "needs_background": "light"
          }
        }
      ]
    },
    {
      "cell_type": "markdown",
      "metadata": {
        "id": "8z_UKf1GuEnz"
      },
      "source": [
        "Let's compare with the built-in implementation:"
      ]
    },
    {
      "cell_type": "code",
      "metadata": {
        "id": "uzKvyEQeSXfY",
        "outputId": "fbb7c537-dbad-4770-ca7b-5728d4d60fb2",
        "colab": {
          "base_uri": "https://localhost:8080/"
        }
      },
      "source": [
        "k"
      ],
      "execution_count": 13,
      "outputs": [
        {
          "output_type": "execute_result",
          "data": {
            "text/plain": [
              "1.019948379888818"
            ]
          },
          "metadata": {},
          "execution_count": 13
        }
      ]
    },
    {
      "cell_type": "code",
      "metadata": {
        "colab": {
          "base_uri": "https://localhost:8080/"
        },
        "id": "vwQDyNtiuDtf",
        "outputId": "ec6c1ca2-5248-483f-cb5d-968575fac6ef"
      },
      "source": [
        "A = np.vstack([x_data, np.ones(len(x_data))]).T\n",
        "k, b = np.linalg.lstsq(A, y_data, rcond=None)[0]\n",
        "print(f'k = {k}, b = {b}')"
      ],
      "execution_count": 10,
      "outputs": [
        {
          "output_type": "stream",
          "name": "stdout",
          "text": [
            "k = 1.0312958739168514, b = -923609.0654769217\n"
          ]
        }
      ]
    },
    {
      "cell_type": "code",
      "metadata": {
        "colab": {
          "base_uri": "https://localhost:8080/",
          "height": 329
        },
        "id": "G20OBd1dvPSq",
        "outputId": "4d5a14fc-e39d-4526-da07-4b5980755673"
      },
      "source": [
        "y_variable = 'Import'\n",
        "x_variable = 'Export'\n",
        "\n",
        "clean_data = dataset[[x_variable, y_variable]].dropna()\n",
        "\n",
        "x_data = clean_data[x_variable]\n",
        "y_data = clean_data[y_variable]\n",
        "\n",
        "#=== Write down optimal k here ===\n",
        "k = y_data.sum() / x_data.sum()\n",
        "print(f'Analytic results: k = {k}')\n",
        "#=================================\n",
        "y_pred = k*x_data\n",
        "\n",
        "A = np.vstack([x_data, np.ones(len(x_data))]).T\n",
        "k_np, b_np = np.linalg.lstsq(A, y_data, rcond=None)[0]\n",
        "print(f'Numpy results: k = {k_np}, b = {b_np}')\n",
        "\n",
        "plt.scatter(x_data, y_data, label = 'True')\n",
        "plt.plot(x_data, y_pred, 'r-', label = 'Analytic')\n",
        "plt.plot(x_data, k_np*x_data + b_np, 'g--', label = 'Numpy')\n",
        "\n",
        "plt.xlabel(x_variable)\n",
        "plt.ylabel(y_variable)\n",
        "plt.title('World bank data')\n",
        "plt.legend()\n",
        "plt.show()"
      ],
      "execution_count": 14,
      "outputs": [
        {
          "output_type": "stream",
          "name": "stdout",
          "text": [
            "Analytic results: k = 1.019948379888818\n",
            "Numpy results: k = 1.0312958739168514, b = -923609.0654769217\n"
          ]
        },
        {
          "output_type": "display_data",
          "data": {
            "image/png": "[encoded data removed]",
            "text/plain": [
              "<Figure size 432x288 with 1 Axes>"
            ]
          },
          "metadata": {
            "needs_background": "light"
          }
        }
      ]
    },
    {
      "cell_type": "markdown",
      "metadata": {
        "id": "Se-lM0mjxDsk"
      },
      "source": [
        "What is the biggest difference between two approaches above?"
      ]
    },
    {
      "cell_type": "markdown",
      "metadata": {
        "id": "GFIH5v5yxQjX"
      },
      "source": [
        ""
      ]
    },
    {
      "cell_type": "markdown",
      "metadata": {
        "id": "d93Q7vuswQnX"
      },
      "source": [
        "## \"Nonlinear\" linear least squares"
      ]
    },
    {
      "cell_type": "markdown",
      "metadata": {
        "id": "_3EpuaRSxgKI"
      },
      "source": [
        "Let's take a look at the following graph:"
      ]
    },
    {
      "cell_type": "code",
      "metadata": {
        "colab": {
          "base_uri": "https://localhost:8080/",
          "height": 301
        },
        "id": "hOFVfK47wVQE",
        "outputId": "76fe3f59-9c72-4a61-e3ae-18173fec09f0"
      },
      "source": [
        "y_variable = 'gdpPerCap'\n",
        "x_variable = 'literacy'\n",
        "\n",
        "clean_data = dataset[[x_variable, y_variable]].dropna()\n",
        "\n",
        "x_data = clean_data[x_variable]\n",
        "y_data = clean_data[y_variable]\n",
        "\n",
        "def fit_exp(xs, ys):\n",
        "    S_x2_y = 0.0\n",
        "    S_y_lny = 0.0\n",
        "    S_x_y = 0.0\n",
        "    S_x_y_lny = 0.0\n",
        "    S_y = 0.0\n",
        "    for (x,y) in zip(xs, ys):\n",
        "        S_x2_y += x * x * y\n",
        "        S_y_lny += y * np.log(y)\n",
        "        S_x_y += x * y\n",
        "        S_x_y_lny += x * y * np.log(y)\n",
        "        S_y += y\n",
        "    #end\n",
        "    a = (S_x2_y * S_y_lny - S_x_y * S_x_y_lny) / (S_y * S_x2_y - S_x_y * S_x_y)\n",
        "    b = (S_y * S_x_y_lny - S_x_y * S_y_lny) / (S_y * S_x2_y - S_x_y * S_x_y)\n",
        "    return (np.exp(a), b)\n",
        "\n",
        "\n",
        "(A, B) = fit_exp(x_data, y_data)\n",
        "# k = np.log(y_data).sum() / np.log(x_data).sum()\n",
        "k = B + A\n",
        "y_pred = k*np.log(x_data)\n",
        "\n",
        "plt.plot(np.log(x_data), np.log(y_pred), 'r-', label = 'Logarithm approximation')\n",
        "\n",
        "plt.scatter(np.log(x_data), np.log(y_data))\n",
        "plt.xlabel(x_variable)\n",
        "plt.ylabel(y_variable)\n",
        "plt.title('World bank data')\n",
        "plt.show()"
      ],
      "execution_count": 49,
      "outputs": [
        {
          "output_type": "display_data",
          "data": {
            "image/png": "[encoded data removed]",
            "text/plain": [
              "<Figure size 432x288 with 1 Axes>"
            ]
          },
          "metadata": {}
        }
      ]
    },
    {
      "cell_type": "markdown",
      "metadata": {
        "id": "-4l7lcGixlCn"
      },
      "source": [
        "Explain how one can use linear regression to solve this problem? Note, that direct using of code above is not acceptable, because the data on the graph are not linearly dependent."
      ]
    },
    {
      "cell_type": "markdown",
      "metadata": {
        "id": "fbvbbGfwyTkT"
      },
      "source": [
        ""
      ]
    },
    {
      "cell_type": "code",
      "metadata": {
        "id": "tRU65LTPyTTb"
      },
      "source": [
        "# Your code here"
      ],
      "execution_count": null,
      "outputs": []
    },
    {
      "cell_type": "markdown",
      "metadata": {
        "id": "dtoQv69Dyncx"
      },
      "source": [
        "## Extra: time comparison of linear least squares using different approaches."
      ]
    },
    {
      "cell_type": "markdown",
      "metadata": {
        "id": "KwhL7fOp2Opo"
      },
      "source": [
        "Please, compare different approaches of solving random linear systems in terms of time."
      ]
    },
    {
      "cell_type": "code",
      "metadata": {
        "id": "FVRo9xPKy1V1"
      },
      "source": [
        "# Imports and definitions.\n",
        "import cvxpy as cp\n",
        "import numpy as np\n",
        "import time\n",
        "import scipy\n",
        "from matplotlib import pyplot as plt\n",
        "import seaborn as sns\n",
        "sns.set()\n",
        "\n",
        "def solve_lls_cvxpy(X, y):\n",
        "  m,n = X.shape\n",
        "  theta = cp.Variable(n)\n",
        "  cost = cp.sum_squares(X*theta - y)\n",
        "  prob = cp.Problem(cp.Minimize(cost))\n",
        "  prob.solve()\n",
        "  return theta.value\n",
        "\n",
        "def solve_lls_exact(X, y):\n",
        "  return np.linalg.pinv(X) @ y\n",
        "\n",
        "def solve_lls_exact_man(X, y):\n",
        "  return np.linalg.inv(X.T @ X) @ X.T @ y\n",
        "\n",
        "def solve_lls_chol(X, y):\n",
        "    res = scipy.linalg.cho_factor(X.T @ X, lower=True)\n",
        "    return scipy.linalg.cho_solve(res, X.T @ y)\n",
        "\n",
        "def solve_lls_qr(X, y):\n",
        "    Q, R = scipy.linalg.qr(X)\n",
        "    return scipy.linalg.solve_triangular(R, Q.T @ y)\n",
        "\n",
        "def solve_lls_np_lstsq(X, y):\n",
        "    return np.linalg.lstsq(X, y, rcond=None)\n",
        "\n",
        "def plot_timing(ns, time_arrays, labels):\n",
        "  for time_array, label in zip(time_arrays, labels):\n",
        "    plt.semilogy(ns, time_array, label=label)\n",
        "\n",
        "  plt.title('Random square linear system')\n",
        "  plt.ylabel('Time, s')\n",
        "  plt.xlabel(r'$n$, dimension of the problem')    \n",
        "  plt.legend()\n",
        "  plt.plot()\n",
        "\n",
        "  return None"
      ],
      "execution_count": 35,
      "outputs": []
    },
    {
      "cell_type": "code",
      "metadata": {
        "colab": {
          "base_uri": "https://localhost:8080/"
        },
        "id": "rGRyktpE1nVg",
        "outputId": "f8106acf-ebc5-4dc4-d275-7525fb8e2053"
      },
      "source": [
        "n = 100\n",
        "print(f'Solving for n = {n}')\n",
        "X = np.random.randn(n, n)\n",
        "y = np.random.randn(n)\n",
        "\n",
        "start_time = time.time()\n",
        "solve_lls_np_lstsq(X, y)\n",
        "end_time = time.time()\n",
        "print(f'Numpy lstsq time {end_time - start_time}')"
      ],
      "execution_count": 36,
      "outputs": [
        {
          "output_type": "stream",
          "name": "stdout",
          "text": [
            "Solving for n = 100\n",
            "Numpy lstsq time 0.011227607727050781\n"
          ]
        }
      ]
    },
    {
      "cell_type": "code",
      "metadata": {
        "id": "XTvaveB2y4Yx",
        "colab": {
          "base_uri": "https://localhost:8080/",
          "height": 34
        },
        "outputId": "df7ec891-29dc-4a72-88d1-ec8f72c799c2"
      },
      "source": [
        "np.random.seed(1)\n",
        "times_cvxpy     = []\n",
        "times_exact     = []\n",
        "times_exact_man = []\n",
        "times_chol      = []\n",
        "times_qr        = []\n",
        "times_lstsq     = []\n",
        "\n",
        "labels = ['cvxpy', 'pinv', 'exact', 'chol', 'qr', 'numpy lstsq']\n",
        "\n",
        "###################\n",
        "# Your code here  #\n",
        "###################\n",
        "\n",
        "plot_timing(ns, [times_cvxpy, times_exact, times_exact_man, times_chol, times_qr, times_lstsq], labels)\n",
        "plt.savefig('lls_times.svg')"
      ],
      "execution_count": 38,
      "outputs": [
        {
          "output_type": "display_data",
          "data": {
            "text/plain": [
              "<Figure size 432x288 with 0 Axes>"
            ]
          },
          "metadata": {}
        }
      ]
    }
  ]
}
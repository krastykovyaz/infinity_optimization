{
  "nbformat": 4,
  "nbformat_minor": 0,
  "metadata": {
    "colab": {
      "name": "Optuna + Keras.ipynb",
      "provenance": []
    },
    "kernelspec": {
      "name": "python3",
      "display_name": "Python 3"
    },
    "language_info": {
      "name": "python"
    }
  },
  "cells": [
    {
      "cell_type": "markdown",
      "metadata": {
        "id": "6JTuTSjwnmc7"
      },
      "source": [
        "# Global optimization"
      ]
    },
    {
      "cell_type": "markdown",
      "metadata": {
        "id": "mfiJx7xDpbwS"
      },
      "source": [
        "## (a) Optuna: hyperparameters for random forest on Iris.\n",
        "In this task you will use [optuna](https://optuna.org/) package for \n",
        "hyperparameter optimization in credit card Fraud detection dataset. Examples can be find [here](https://optuna.org/#code_examples) or [here](https://www.kaggle.com/dixhom/bayesian-optimization-with-optuna-stacking/)\n",
        "\n",
        "This [example](https://colab.research.google.com/github/keras-team/keras-io/blob/master/examples/structured_data/ipynb/imbalanced_classification.ipynb#scrollTo=yxK_u7msJeI6) looks at the [Kaggle Credit Card Fraud Detection](https://www.kaggle.com/mlg-ulb/creditcardfraud/) dataset to demonstrate how to train a classification model on data with highly imbalanced classes."
      ]
    },
    {
      "cell_type": "code",
      "metadata": {
        "colab": {
          "base_uri": "https://localhost:8080/"
        },
        "id": "KBznFFn0sZH6",
        "outputId": "6b822a65-ab2f-4a37-8ac6-4cb333761a48"
      },
      "source": [
        "!pip install optuna\n",
        "!pip install keras"
      ],
      "execution_count": 1,
      "outputs": [
        {
          "output_type": "stream",
          "name": "stdout",
          "text": [
            "Collecting optuna\n",
            "  Downloading optuna-2.10.0-py3-none-any.whl (308 kB)\n",
            "\u001b[K     |████████████████████████████████| 308 kB 8.5 MB/s \n",
            "\u001b[?25hCollecting cmaes>=0.8.2\n",
            "  Downloading cmaes-0.8.2-py3-none-any.whl (15 kB)\n",
            "Collecting cliff\n",
            "  Downloading cliff-3.9.0-py3-none-any.whl (80 kB)\n",
            "\u001b[K     |████████████████████████████████| 80 kB 4.9 MB/s \n",
            "\u001b[?25hRequirement already satisfied: numpy in /usr/local/lib/python3.7/dist-packages (from optuna) (1.19.5)\n",
            "Requirement already satisfied: scipy!=1.4.0 in /usr/local/lib/python3.7/dist-packages (from optuna) (1.4.1)\n",
            "Requirement already satisfied: sqlalchemy>=1.1.0 in /usr/local/lib/python3.7/dist-packages (from optuna) (1.4.25)\n",
            "Requirement already satisfied: tqdm in /usr/local/lib/python3.7/dist-packages (from optuna) (4.62.3)\n",
            "Requirement already satisfied: PyYAML in /usr/local/lib/python3.7/dist-packages (from optuna) (3.13)\n",
            "Collecting alembic\n",
            "  Downloading alembic-1.7.4-py3-none-any.whl (209 kB)\n",
            "\u001b[K     |████████████████████████████████| 209 kB 51.5 MB/s \n",
            "\u001b[?25hCollecting colorlog\n",
            "  Downloading colorlog-6.5.0-py2.py3-none-any.whl (11 kB)\n",
            "Requirement already satisfied: packaging>=20.0 in /usr/local/lib/python3.7/dist-packages (from optuna) (21.0)\n",
            "Requirement already satisfied: pyparsing>=2.0.2 in /usr/local/lib/python3.7/dist-packages (from packaging>=20.0->optuna) (2.4.7)\n",
            "Requirement already satisfied: importlib-metadata in /usr/local/lib/python3.7/dist-packages (from sqlalchemy>=1.1.0->optuna) (4.8.1)\n",
            "Requirement already satisfied: greenlet!=0.4.17 in /usr/local/lib/python3.7/dist-packages (from sqlalchemy>=1.1.0->optuna) (1.1.2)\n",
            "Collecting Mako\n",
            "  Downloading Mako-1.1.5-py2.py3-none-any.whl (75 kB)\n",
            "\u001b[K     |████████████████████████████████| 75 kB 2.7 MB/s \n",
            "\u001b[?25hRequirement already satisfied: importlib-resources in /usr/local/lib/python3.7/dist-packages (from alembic->optuna) (5.2.2)\n",
            "Collecting pbr!=2.1.0,>=2.0.0\n",
            "  Downloading pbr-5.6.0-py2.py3-none-any.whl (111 kB)\n",
            "\u001b[K     |████████████████████████████████| 111 kB 51.8 MB/s \n",
            "\u001b[?25hCollecting stevedore>=2.0.1\n",
            "  Downloading stevedore-3.4.0-py3-none-any.whl (49 kB)\n",
            "\u001b[K     |████████████████████████████████| 49 kB 3.4 MB/s \n",
            "\u001b[?25hCollecting cmd2>=1.0.0\n",
            "  Downloading cmd2-2.2.0-py3-none-any.whl (144 kB)\n",
            "\u001b[K     |████████████████████████████████| 144 kB 30.0 MB/s \n",
            "\u001b[?25hCollecting autopage>=0.4.0\n",
            "  Downloading autopage-0.4.0-py3-none-any.whl (20 kB)\n",
            "Requirement already satisfied: PrettyTable>=0.7.2 in /usr/local/lib/python3.7/dist-packages (from cliff->optuna) (2.2.1)\n",
            "Collecting colorama>=0.3.7\n",
            "  Downloading colorama-0.4.4-py2.py3-none-any.whl (16 kB)\n",
            "Collecting pyperclip>=1.6\n",
            "  Downloading pyperclip-1.8.2.tar.gz (20 kB)\n",
            "Requirement already satisfied: attrs>=16.3.0 in /usr/local/lib/python3.7/dist-packages (from cmd2>=1.0.0->cliff->optuna) (21.2.0)\n",
            "Requirement already satisfied: typing-extensions in /usr/local/lib/python3.7/dist-packages (from cmd2>=1.0.0->cliff->optuna) (3.7.4.3)\n",
            "Requirement already satisfied: wcwidth>=0.1.7 in /usr/local/lib/python3.7/dist-packages (from cmd2>=1.0.0->cliff->optuna) (0.2.5)\n",
            "Requirement already satisfied: zipp>=0.5 in /usr/local/lib/python3.7/dist-packages (from importlib-metadata->sqlalchemy>=1.1.0->optuna) (3.6.0)\n",
            "Requirement already satisfied: MarkupSafe>=0.9.2 in /usr/local/lib/python3.7/dist-packages (from Mako->alembic->optuna) (2.0.1)\n",
            "Building wheels for collected packages: pyperclip\n",
            "  Building wheel for pyperclip (setup.py) ... \u001b[?25l\u001b[?25hdone\n",
            "  Created wheel for pyperclip: filename=pyperclip-1.8.2-py3-none-any.whl size=11136 sha256=173f1b0c23480ab858f3451a7c4bd66fc227408c27be539101a01f1e52ff5f4a\n",
            "  Stored in directory: /root/.cache/pip/wheels/9f/18/84/8f69f8b08169c7bae2dde6bd7daf0c19fca8c8e500ee620a28\n",
            "Successfully built pyperclip\n",
            "Installing collected packages: pyperclip, pbr, colorama, stevedore, Mako, cmd2, autopage, colorlog, cmaes, cliff, alembic, optuna\n",
            "Successfully installed Mako-1.1.5 alembic-1.7.4 autopage-0.4.0 cliff-3.9.0 cmaes-0.8.2 cmd2-2.2.0 colorama-0.4.4 colorlog-6.5.0 optuna-2.10.0 pbr-5.6.0 pyperclip-1.8.2 stevedore-3.4.0\n",
            "Requirement already satisfied: keras in /usr/local/lib/python3.7/dist-packages (2.6.0)\n"
          ]
        }
      ]
    },
    {
      "cell_type": "code",
      "metadata": {
        "id": "I0hLaBcGNM69",
        "colab": {
          "base_uri": "https://localhost:8080/"
        },
        "outputId": "3fb3fd35-7a35-4909-dbe9-f0b232d65fe3"
      },
      "source": [
        "# Getting dataset with credit card data\n",
        "!wget -O creditcard.csv.zip \"https://github.com/MerkulovDaniil/sber21_fmin/raw/sources/data/creditcard.csv.zip\"\n",
        "!unzip creditcard.csv.zip"
      ],
      "execution_count": 2,
      "outputs": [
        {
          "output_type": "stream",
          "name": "stdout",
          "text": [
            "--2021-10-10 16:56:10--  https://github.com/MerkulovDaniil/sber21_fmin/raw/sources/data/creditcard.csv.zip\n",
            "Resolving github.com (github.com)... 192.30.255.113\n",
            "Connecting to github.com (github.com)|192.30.255.113|:443... connected.\n",
            "HTTP request sent, awaiting response... 302 Found\n",
            "Location: https://raw.githubusercontent.com/MerkulovDaniil/sber21_fmin/sources/data/creditcard.csv.zip [following]\n",
            "--2021-10-10 16:56:10--  https://raw.githubusercontent.com/MerkulovDaniil/sber21_fmin/sources/data/creditcard.csv.zip\n",
            "Resolving raw.githubusercontent.com (raw.githubusercontent.com)... 185.199.108.133, 185.199.109.133, 185.199.110.133, ...\n",
            "Connecting to raw.githubusercontent.com (raw.githubusercontent.com)|185.199.108.133|:443... connected.\n",
            "HTTP request sent, awaiting response... 200 OK\n",
            "Length: 69155672 (66M) [application/zip]\n",
            "Saving to: ‘creditcard.csv.zip’\n",
            "\n",
            "creditcard.csv.zip  100%[===================>]  65.95M   203MB/s    in 0.3s    \n",
            "\n",
            "2021-10-10 16:56:12 (203 MB/s) - ‘creditcard.csv.zip’ saved [69155672/69155672]\n",
            "\n",
            "Archive:  creditcard.csv.zip\n",
            "  inflating: creditcard.csv          \n"
          ]
        }
      ]
    },
    {
      "cell_type": "markdown",
      "metadata": {
        "id": "wJSyOUAiNvPB"
      },
      "source": [
        "## First, vectorize the CSV data"
      ]
    },
    {
      "cell_type": "code",
      "metadata": {
        "id": "bAMMadr9sZaO",
        "colab": {
          "base_uri": "https://localhost:8080/"
        },
        "outputId": "614d422a-6ac3-4f8c-dbdd-841485b2d698"
      },
      "source": [
        "import csv\n",
        "import numpy as np\n",
        "\n",
        "# Get the real data from https://www.kaggle.com/mlg-ulb/creditcardfraud/\n",
        "\n",
        "fname = \"creditcard.csv\"\n",
        "\n",
        "all_features = []\n",
        "all_targets = []\n",
        "with open(fname) as f:\n",
        "    for i, line in enumerate(f):\n",
        "        if i == 0:\n",
        "            print(\"HEADER:\", line.strip())\n",
        "            continue  # Skip header\n",
        "        fields = line.strip().split(\",\")\n",
        "        all_features.append([float(v.replace('\"', \"\")) for v in fields[:-1]])\n",
        "        all_targets.append([int(fields[-1].replace('\"', \"\"))])\n",
        "        if i == 1:\n",
        "            print(\"EXAMPLE FEATURES:\", all_features[-1])\n",
        "\n",
        "features = np.array(all_features, dtype=\"float32\")\n",
        "targets = np.array(all_targets, dtype=\"uint8\")\n",
        "print(\"features.shape:\", features.shape)\n",
        "print(\"targets.shape:\", targets.shape)\n"
      ],
      "execution_count": 3,
      "outputs": [
        {
          "output_type": "stream",
          "name": "stdout",
          "text": [
            "HEADER: \"Time\",\"V1\",\"V2\",\"V3\",\"V4\",\"V5\",\"V6\",\"V7\",\"V8\",\"V9\",\"V10\",\"V11\",\"V12\",\"V13\",\"V14\",\"V15\",\"V16\",\"V17\",\"V18\",\"V19\",\"V20\",\"V21\",\"V22\",\"V23\",\"V24\",\"V25\",\"V26\",\"V27\",\"V28\",\"Amount\",\"Class\"\n",
            "EXAMPLE FEATURES: [0.0, -1.3598071336738, -0.0727811733098497, 2.53634673796914, 1.37815522427443, -0.338320769942518, 0.462387777762292, 0.239598554061257, 0.0986979012610507, 0.363786969611213, 0.0907941719789316, -0.551599533260813, -0.617800855762348, -0.991389847235408, -0.311169353699879, 1.46817697209427, -0.470400525259478, 0.207971241929242, 0.0257905801985591, 0.403992960255733, 0.251412098239705, -0.018306777944153, 0.277837575558899, -0.110473910188767, 0.0669280749146731, 0.128539358273528, -0.189114843888824, 0.133558376740387, -0.0210530534538215, 149.62]\n",
            "features.shape: (284807, 30)\n",
            "targets.shape: (284807, 1)\n"
          ]
        }
      ]
    },
    {
      "cell_type": "markdown",
      "metadata": {
        "id": "5uBKafeqJeI7"
      },
      "source": [
        "## Prepare a validation set"
      ]
    },
    {
      "cell_type": "code",
      "metadata": {
        "id": "aqYMj_XGJeI8",
        "colab": {
          "base_uri": "https://localhost:8080/"
        },
        "outputId": "7d34b3c9-d520-49cf-9de2-5cbc7f3cea4e"
      },
      "source": [
        "num_val_samples = int(len(features) * 0.2)\n",
        "train_features = features[:-num_val_samples]\n",
        "train_targets = targets[:-num_val_samples]\n",
        "val_features = features[-num_val_samples:]\n",
        "val_targets = targets[-num_val_samples:]\n",
        "\n",
        "print(\"Number of training samples:\", len(train_features))\n",
        "print(\"Number of validation samples:\", len(val_features))\n"
      ],
      "execution_count": 4,
      "outputs": [
        {
          "output_type": "stream",
          "name": "stdout",
          "text": [
            "Number of training samples: 227846\n",
            "Number of validation samples: 56961\n"
          ]
        }
      ]
    },
    {
      "cell_type": "markdown",
      "metadata": {
        "id": "xIngOB-LJeI8"
      },
      "source": [
        "## Analyze class imbalance in the targets"
      ]
    },
    {
      "cell_type": "code",
      "metadata": {
        "id": "hQZIqbUiJeI9",
        "colab": {
          "base_uri": "https://localhost:8080/"
        },
        "outputId": "05727fac-76a8-465e-ed3b-1c721eb65017"
      },
      "source": [
        "counts = np.bincount(train_targets[:, 0])\n",
        "print(\n",
        "    \"Number of positive samples in training data: {} ({:.2f}% of total)\".format(\n",
        "        counts[1], 100 * float(counts[1]) / len(train_targets)\n",
        "    )\n",
        ")\n",
        "\n",
        "weight_for_0 = 1.0 / counts[0]\n",
        "weight_for_1 = 1.0 / counts[1]\n"
      ],
      "execution_count": 5,
      "outputs": [
        {
          "output_type": "stream",
          "name": "stdout",
          "text": [
            "Number of positive samples in training data: 417 (0.18% of total)\n"
          ]
        }
      ]
    },
    {
      "cell_type": "markdown",
      "metadata": {
        "id": "tCMrVl_0JeI9"
      },
      "source": [
        "## Normalize the data using training set statistics"
      ]
    },
    {
      "cell_type": "code",
      "metadata": {
        "id": "3UejackMJeI9"
      },
      "source": [
        "mean = np.mean(train_features, axis=0)\n",
        "train_features -= mean\n",
        "val_features -= mean\n",
        "std = np.std(train_features, axis=0)\n",
        "train_features /= std\n",
        "val_features /= std\n"
      ],
      "execution_count": 6,
      "outputs": []
    },
    {
      "cell_type": "markdown",
      "metadata": {
        "id": "807U58T2JeI-"
      },
      "source": [
        "## Build a binary classification model"
      ]
    },
    {
      "cell_type": "code",
      "metadata": {
        "id": "QdFUgYwbJeI-",
        "colab": {
          "base_uri": "https://localhost:8080/"
        },
        "outputId": "b5ee453d-572a-4d34-b9db-20760e5c0153"
      },
      "source": [
        "from tensorflow import keras\n",
        "\n",
        "model = keras.Sequential(\n",
        "    [\n",
        "        keras.layers.Dense(\n",
        "            256, activation=\"relu\", input_shape=(train_features.shape[-1],)\n",
        "        ),\n",
        "        keras.layers.Dense(256, activation=\"relu\"),\n",
        "        keras.layers.Dropout(0.3),\n",
        "        keras.layers.Dense(256, activation=\"relu\"),\n",
        "        keras.layers.Dropout(0.3),\n",
        "        keras.layers.Dense(1, activation=\"sigmoid\"),\n",
        "    ]\n",
        ")\n",
        "model.summary()\n"
      ],
      "execution_count": 7,
      "outputs": [
        {
          "output_type": "stream",
          "name": "stdout",
          "text": [
            "Model: \"sequential\"\n",
            "_________________________________________________________________\n",
            "Layer (type)                 Output Shape              Param #   \n",
            "=================================================================\n",
            "dense (Dense)                (None, 256)               7936      \n",
            "_________________________________________________________________\n",
            "dense_1 (Dense)              (None, 256)               65792     \n",
            "_________________________________________________________________\n",
            "dropout (Dropout)            (None, 256)               0         \n",
            "_________________________________________________________________\n",
            "dense_2 (Dense)              (None, 256)               65792     \n",
            "_________________________________________________________________\n",
            "dropout_1 (Dropout)          (None, 256)               0         \n",
            "_________________________________________________________________\n",
            "dense_3 (Dense)              (None, 1)                 257       \n",
            "=================================================================\n",
            "Total params: 139,777\n",
            "Trainable params: 139,777\n",
            "Non-trainable params: 0\n",
            "_________________________________________________________________\n"
          ]
        }
      ]
    },
    {
      "cell_type": "markdown",
      "metadata": {
        "id": "TM-QO7OpJeI-"
      },
      "source": [
        "## Train the model with `class_weight` argument"
      ]
    },
    {
      "cell_type": "code",
      "metadata": {
        "id": "iiRZiESuJeI_",
        "colab": {
          "base_uri": "https://localhost:8080/"
        },
        "outputId": "78a77a44-42c7-48bb-9204-d77152050f36"
      },
      "source": [
        "metrics = [\n",
        "    keras.metrics.FalseNegatives(name=\"fn\"),\n",
        "    keras.metrics.FalsePositives(name=\"fp\"),\n",
        "    keras.metrics.TrueNegatives(name=\"tn\"),\n",
        "    keras.metrics.TruePositives(name=\"tp\"),\n",
        "    keras.metrics.Precision(name=\"precision\"),\n",
        "    keras.metrics.Recall(name=\"recall\"),\n",
        "]\n",
        "\n",
        "model.compile(\n",
        "    optimizer=keras.optimizers.Adam(1e-2), loss=\"binary_crossentropy\", metrics=metrics\n",
        ")\n",
        "\n",
        "callbacks = [keras.callbacks.ModelCheckpoint(\"fraud_model_at_epoch_{epoch}.h5\")]\n",
        "class_weight = {0: weight_for_0, 1: weight_for_1}\n",
        "\n",
        "model.fit(\n",
        "    train_features,\n",
        "    train_targets,\n",
        "    batch_size=2048,\n",
        "    epochs=30,\n",
        "    verbose=2,\n",
        "    callbacks=callbacks,\n",
        "    validation_data=(val_features, val_targets),\n",
        "    class_weight=class_weight,\n",
        ")\n"
      ],
      "execution_count": 8,
      "outputs": [
        {
          "output_type": "stream",
          "name": "stdout",
          "text": [
            "Epoch 1/30\n",
            "112/112 - 8s - loss: 2.2419e-06 - fn: 45.0000 - fp: 25877.0000 - tn: 201552.0000 - tp: 372.0000 - precision: 0.0142 - recall: 0.8921 - val_loss: 0.0932 - val_fn: 7.0000 - val_fp: 1338.0000 - val_tn: 55548.0000 - val_tp: 68.0000 - val_precision: 0.0484 - val_recall: 0.9067\n",
            "Epoch 2/30\n",
            "112/112 - 6s - loss: 1.4183e-06 - fn: 39.0000 - fp: 7477.0000 - tn: 219952.0000 - tp: 378.0000 - precision: 0.0481 - recall: 0.9065 - val_loss: 0.0533 - val_fn: 10.0000 - val_fp: 524.0000 - val_tn: 56362.0000 - val_tp: 65.0000 - val_precision: 0.1104 - val_recall: 0.8667\n",
            "Epoch 3/30\n",
            "112/112 - 6s - loss: 1.2303e-06 - fn: 33.0000 - fp: 6367.0000 - tn: 221062.0000 - tp: 384.0000 - precision: 0.0569 - recall: 0.9209 - val_loss: 0.0977 - val_fn: 7.0000 - val_fp: 2022.0000 - val_tn: 54864.0000 - val_tp: 68.0000 - val_precision: 0.0325 - val_recall: 0.9067\n",
            "Epoch 4/30\n",
            "112/112 - 6s - loss: 1.0311e-06 - fn: 21.0000 - fp: 6700.0000 - tn: 220729.0000 - tp: 396.0000 - precision: 0.0558 - recall: 0.9496 - val_loss: 0.2996 - val_fn: 3.0000 - val_fp: 5284.0000 - val_tn: 51602.0000 - val_tp: 72.0000 - val_precision: 0.0134 - val_recall: 0.9600\n",
            "Epoch 5/30\n",
            "112/112 - 6s - loss: 1.2270e-06 - fn: 23.0000 - fp: 8213.0000 - tn: 219216.0000 - tp: 394.0000 - precision: 0.0458 - recall: 0.9448 - val_loss: 0.0369 - val_fn: 9.0000 - val_fp: 345.0000 - val_tn: 56541.0000 - val_tp: 66.0000 - val_precision: 0.1606 - val_recall: 0.8800\n",
            "Epoch 6/30\n",
            "112/112 - 7s - loss: 1.0969e-06 - fn: 26.0000 - fp: 7582.0000 - tn: 219847.0000 - tp: 391.0000 - precision: 0.0490 - recall: 0.9376 - val_loss: 0.0381 - val_fn: 10.0000 - val_fp: 491.0000 - val_tn: 56395.0000 - val_tp: 65.0000 - val_precision: 0.1169 - val_recall: 0.8667\n",
            "Epoch 7/30\n",
            "112/112 - 6s - loss: 8.9617e-07 - fn: 19.0000 - fp: 6076.0000 - tn: 221353.0000 - tp: 398.0000 - precision: 0.0615 - recall: 0.9544 - val_loss: 0.1008 - val_fn: 6.0000 - val_fp: 1674.0000 - val_tn: 55212.0000 - val_tp: 69.0000 - val_precision: 0.0396 - val_recall: 0.9200\n",
            "Epoch 8/30\n",
            "112/112 - 6s - loss: 7.5579e-07 - fn: 15.0000 - fp: 6486.0000 - tn: 220943.0000 - tp: 402.0000 - precision: 0.0584 - recall: 0.9640 - val_loss: 0.0613 - val_fn: 9.0000 - val_fp: 1167.0000 - val_tn: 55719.0000 - val_tp: 66.0000 - val_precision: 0.0535 - val_recall: 0.8800\n",
            "Epoch 9/30\n",
            "112/112 - 6s - loss: 5.9929e-07 - fn: 8.0000 - fp: 5917.0000 - tn: 221512.0000 - tp: 409.0000 - precision: 0.0647 - recall: 0.9808 - val_loss: 0.0268 - val_fn: 10.0000 - val_fp: 495.0000 - val_tn: 56391.0000 - val_tp: 65.0000 - val_precision: 0.1161 - val_recall: 0.8667\n",
            "Epoch 10/30\n",
            "112/112 - 6s - loss: 5.5724e-07 - fn: 8.0000 - fp: 5023.0000 - tn: 222406.0000 - tp: 409.0000 - precision: 0.0753 - recall: 0.9808 - val_loss: 0.0669 - val_fn: 7.0000 - val_fp: 1577.0000 - val_tn: 55309.0000 - val_tp: 68.0000 - val_precision: 0.0413 - val_recall: 0.9067\n",
            "Epoch 11/30\n",
            "112/112 - 6s - loss: 5.9427e-07 - fn: 12.0000 - fp: 5754.0000 - tn: 221675.0000 - tp: 405.0000 - precision: 0.0658 - recall: 0.9712 - val_loss: 0.0412 - val_fn: 7.0000 - val_fp: 896.0000 - val_tn: 55990.0000 - val_tp: 68.0000 - val_precision: 0.0705 - val_recall: 0.9067\n",
            "Epoch 12/30\n",
            "112/112 - 6s - loss: 4.7849e-07 - fn: 7.0000 - fp: 4864.0000 - tn: 222565.0000 - tp: 410.0000 - precision: 0.0777 - recall: 0.9832 - val_loss: 0.0236 - val_fn: 10.0000 - val_fp: 425.0000 - val_tn: 56461.0000 - val_tp: 65.0000 - val_precision: 0.1327 - val_recall: 0.8667\n",
            "Epoch 13/30\n",
            "112/112 - 6s - loss: 5.9143e-07 - fn: 7.0000 - fp: 6555.0000 - tn: 220874.0000 - tp: 410.0000 - precision: 0.0589 - recall: 0.9832 - val_loss: 0.0303 - val_fn: 17.0000 - val_fp: 78.0000 - val_tn: 56808.0000 - val_tp: 58.0000 - val_precision: 0.4265 - val_recall: 0.7733\n",
            "Epoch 14/30\n",
            "112/112 - 6s - loss: 1.0914e-06 - fn: 21.0000 - fp: 9105.0000 - tn: 218324.0000 - tp: 396.0000 - precision: 0.0417 - recall: 0.9496 - val_loss: 0.0425 - val_fn: 8.0000 - val_fp: 567.0000 - val_tn: 56319.0000 - val_tp: 67.0000 - val_precision: 0.1057 - val_recall: 0.8933\n",
            "Epoch 15/30\n",
            "112/112 - 6s - loss: 7.3921e-07 - fn: 8.0000 - fp: 6104.0000 - tn: 221325.0000 - tp: 409.0000 - precision: 0.0628 - recall: 0.9808 - val_loss: 0.0467 - val_fn: 8.0000 - val_fp: 1030.0000 - val_tn: 55856.0000 - val_tp: 67.0000 - val_precision: 0.0611 - val_recall: 0.8933\n",
            "Epoch 16/30\n",
            "112/112 - 6s - loss: 1.7199e-06 - fn: 18.0000 - fp: 9365.0000 - tn: 218064.0000 - tp: 399.0000 - precision: 0.0409 - recall: 0.9568 - val_loss: 0.0631 - val_fn: 10.0000 - val_fp: 918.0000 - val_tn: 55968.0000 - val_tp: 65.0000 - val_precision: 0.0661 - val_recall: 0.8667\n",
            "Epoch 17/30\n",
            "112/112 - 6s - loss: 8.2676e-07 - fn: 11.0000 - fp: 6720.0000 - tn: 220709.0000 - tp: 406.0000 - precision: 0.0570 - recall: 0.9736 - val_loss: 0.0242 - val_fn: 9.0000 - val_fp: 417.0000 - val_tn: 56469.0000 - val_tp: 66.0000 - val_precision: 0.1366 - val_recall: 0.8800\n",
            "Epoch 18/30\n",
            "112/112 - 6s - loss: 1.0995e-06 - fn: 15.0000 - fp: 6321.0000 - tn: 221108.0000 - tp: 402.0000 - precision: 0.0598 - recall: 0.9640 - val_loss: 0.0508 - val_fn: 6.0000 - val_fp: 941.0000 - val_tn: 55945.0000 - val_tp: 69.0000 - val_precision: 0.0683 - val_recall: 0.9200\n",
            "Epoch 19/30\n",
            "112/112 - 6s - loss: 1.0338e-06 - fn: 10.0000 - fp: 5164.0000 - tn: 222265.0000 - tp: 407.0000 - precision: 0.0731 - recall: 0.9760 - val_loss: 0.0514 - val_fn: 11.0000 - val_fp: 775.0000 - val_tn: 56111.0000 - val_tp: 64.0000 - val_precision: 0.0763 - val_recall: 0.8533\n",
            "Epoch 20/30\n",
            "112/112 - 6s - loss: 6.3723e-07 - fn: 9.0000 - fp: 5109.0000 - tn: 222320.0000 - tp: 408.0000 - precision: 0.0740 - recall: 0.9784 - val_loss: 0.0217 - val_fn: 9.0000 - val_fp: 381.0000 - val_tn: 56505.0000 - val_tp: 66.0000 - val_precision: 0.1477 - val_recall: 0.8800\n",
            "Epoch 21/30\n",
            "112/112 - 6s - loss: 6.8646e-07 - fn: 8.0000 - fp: 4550.0000 - tn: 222879.0000 - tp: 409.0000 - precision: 0.0825 - recall: 0.9808 - val_loss: 0.0187 - val_fn: 9.0000 - val_fp: 340.0000 - val_tn: 56546.0000 - val_tp: 66.0000 - val_precision: 0.1626 - val_recall: 0.8800\n",
            "Epoch 22/30\n",
            "112/112 - 6s - loss: 5.3105e-07 - fn: 7.0000 - fp: 4109.0000 - tn: 223320.0000 - tp: 410.0000 - precision: 0.0907 - recall: 0.9832 - val_loss: 0.0432 - val_fn: 7.0000 - val_fp: 757.0000 - val_tn: 56129.0000 - val_tp: 68.0000 - val_precision: 0.0824 - val_recall: 0.9067\n",
            "Epoch 23/30\n",
            "112/112 - 6s - loss: 3.0905e-07 - fn: 2.0000 - fp: 2708.0000 - tn: 224721.0000 - tp: 415.0000 - precision: 0.1329 - recall: 0.9952 - val_loss: 0.0288 - val_fn: 8.0000 - val_fp: 425.0000 - val_tn: 56461.0000 - val_tp: 67.0000 - val_precision: 0.1362 - val_recall: 0.8933\n",
            "Epoch 24/30\n",
            "112/112 - 6s - loss: 3.8061e-07 - fn: 2.0000 - fp: 3502.0000 - tn: 223927.0000 - tp: 415.0000 - precision: 0.1059 - recall: 0.9952 - val_loss: 0.0233 - val_fn: 8.0000 - val_fp: 549.0000 - val_tn: 56337.0000 - val_tp: 67.0000 - val_precision: 0.1088 - val_recall: 0.8933\n",
            "Epoch 25/30\n",
            "112/112 - 6s - loss: 3.9943e-07 - fn: 3.0000 - fp: 5257.0000 - tn: 222172.0000 - tp: 414.0000 - precision: 0.0730 - recall: 0.9928 - val_loss: 0.0452 - val_fn: 7.0000 - val_fp: 1293.0000 - val_tn: 55593.0000 - val_tp: 68.0000 - val_precision: 0.0500 - val_recall: 0.9067\n",
            "Epoch 26/30\n",
            "112/112 - 6s - loss: 2.3698e-07 - fn: 1.0000 - fp: 2754.0000 - tn: 224675.0000 - tp: 416.0000 - precision: 0.1312 - recall: 0.9976 - val_loss: 0.0229 - val_fn: 9.0000 - val_fp: 502.0000 - val_tn: 56384.0000 - val_tp: 66.0000 - val_precision: 0.1162 - val_recall: 0.8800\n",
            "Epoch 27/30\n",
            "112/112 - 6s - loss: 3.2149e-07 - fn: 2.0000 - fp: 3876.0000 - tn: 223553.0000 - tp: 415.0000 - precision: 0.0967 - recall: 0.9952 - val_loss: 0.0190 - val_fn: 11.0000 - val_fp: 353.0000 - val_tn: 56533.0000 - val_tp: 64.0000 - val_precision: 0.1535 - val_recall: 0.8533\n",
            "Epoch 28/30\n",
            "112/112 - 6s - loss: 1.9941e-07 - fn: 1.0000 - fp: 2061.0000 - tn: 225368.0000 - tp: 416.0000 - precision: 0.1679 - recall: 0.9976 - val_loss: 0.0214 - val_fn: 9.0000 - val_fp: 367.0000 - val_tn: 56519.0000 - val_tp: 66.0000 - val_precision: 0.1524 - val_recall: 0.8800\n",
            "Epoch 29/30\n",
            "112/112 - 6s - loss: 3.2685e-07 - fn: 3.0000 - fp: 3355.0000 - tn: 224074.0000 - tp: 414.0000 - precision: 0.1098 - recall: 0.9928 - val_loss: 0.0505 - val_fn: 9.0000 - val_fp: 956.0000 - val_tn: 55930.0000 - val_tp: 66.0000 - val_precision: 0.0646 - val_recall: 0.8800\n",
            "Epoch 30/30\n",
            "112/112 - 6s - loss: 2.6470e-07 - fn: 2.0000 - fp: 3324.0000 - tn: 224105.0000 - tp: 415.0000 - precision: 0.1110 - recall: 0.9952 - val_loss: 0.0122 - val_fn: 10.0000 - val_fp: 213.0000 - val_tn: 56673.0000 - val_tp: 65.0000 - val_precision: 0.2338 - val_recall: 0.8667\n"
          ]
        },
        {
          "output_type": "execute_result",
          "data": {
            "text/plain": [
              "<keras.callbacks.History at 0x7f5ae41aee50>"
            ]
          },
          "metadata": {},
          "execution_count": 8
        }
      ]
    },
    {
      "cell_type": "markdown",
      "metadata": {
        "id": "0L7iFgWtJeI_"
      },
      "source": [
        "## Conclusions\n",
        "\n",
        "At the end of training, out of 56,961 validation transactions, we are:\n",
        "\n",
        "- Correctly identifying 66 of them as fraudulent\n",
        "- Missing 9 fraudulent transactions\n",
        "- At the cost of incorrectly flagging 441 legitimate transactions\n",
        "\n",
        "In the real world, one would put an even higher weight on class 1,\n",
        "so as to reflect that False Negatives are more costly than False Positives.\n",
        "\n",
        "Next time your credit card gets  declined in an online purchase -- this is why."
      ]
    },
    {
      "cell_type": "markdown",
      "metadata": {
        "id": "OgiKBcwwTrvk"
      },
      "source": [
        "## Try to tune any set of hyperparameters in the problem above with optuna library. Possible variants\n",
        "\n",
        "* weights of the classes\n",
        "* number of layers in the neural network\n",
        "* learning rate and batch size\n",
        "\n",
        "Also you are able t choose any metric you want."
      ]
    },
    {
      "cell_type": "markdown",
      "metadata": {
        "id": "UUCyT41nnoaF"
      },
      "source": [
        "## (b) EXTRA\n",
        "Implement Rastrigin function $f: \\mathbb{R}^d \\to \\mathbb{R}$ for d = 10. [link](https://www.sfu.ca/~ssurjano/rastr.html)\n",
        "\n",
        "$$\n",
        "f(\\mathbf{x})=10 d+\\sum_{i=1}^{d}\\left[x_{i}^{2}-10 \\cos \\left(2 \\pi x_{i}\\right)\\right]\n",
        "$$"
      ]
    },
    {
      "cell_type": "code",
      "metadata": {
        "id": "vhT35xyproaD"
      },
      "source": [
        "def rast():\n",
        "    pass"
      ],
      "execution_count": null,
      "outputs": []
    },
    {
      "cell_type": "markdown",
      "metadata": {
        "id": "Ve-aZu31rtHH"
      },
      "source": [
        "* Consider scipy global optimization from [here](https://docs.scipy.org/doc/scipy/reference/optimize.html#global-optimization).\n",
        "* Plot 4 graphs for different $d$ from {2, 4, 6, 8}. On each graph you are to plot $f$ from $N_{fev}$ for 4 methods: `basinhopping`, `differential_evolution`, `shgo`, `dual_annealing` from scipy, where $N_{fev}$ - the number of function evaluations. This information is usually avalable from `specific_optimizer.nfev`. If you will need bounds for the optimizer, use $x_i \\in [-5, 5]$.\n",
        "* Please, try to use `brute` method also. Explain the results🤔"
      ]
    },
    {
      "cell_type": "code",
      "metadata": {
        "colab": {
          "base_uri": "https://localhost:8080/",
          "height": 989
        },
        "id": "NfThSsSBsv1Y",
        "outputId": "80cf846e-21ba-4d50-dda7-d36a3b5e765a"
      },
      "source": [
        ""
      ],
      "execution_count": null,
      "outputs": [
        {
          "output_type": "execute_result",
          "data": {
            "text/plain": [
              "Text(0.5, 0.98, 'EXAMPLE')"
            ]
          },
          "metadata": {
            "tags": []
          },
          "execution_count": 24
        },
        {
          "output_type": "display_data",
          "data": {
            "image/png": "[encoded data removed]",
            "text/plain": [
              "<Figure size 1080x1080 with 4 Axes>"
            ]
          },
          "metadata": {
            "tags": [],
            "needs_background": "light"
          }
        }
      ]
    },
    {
      "cell_type": "markdown",
      "metadata": {
        "id": "bSPaPDQkaTk0"
      },
      "source": [
        "# Materials"
      ]
    },
    {
      "cell_type": "markdown",
      "metadata": {
        "id": "ykAl6yqoaWJb"
      },
      "source": [
        "* [ZOOpt](https://github.com/eyounx/ZOOpt) A python package of Zeroth-Order Optimization\n",
        "* [Nevergrad](https://github.com/facebookresearch/nevergrad) A Python toolbox for performing gradient-free optimization\n",
        "* [Optuna](https://colab.research.google.com/github/optuna/optuna/blob/master/examples/quickstart.ipynb) tutorial."
      ]
    }
  ]
}
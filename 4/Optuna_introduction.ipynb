{
  "nbformat": 4,
  "nbformat_minor": 0,
  "metadata": {
    "kernelspec": {
      "display_name": "Python 3",
      "language": "python",
      "name": "python3"
    },
    "language_info": {
      "codemirror_mode": {
        "name": "ipython",
        "version": 3
      },
      "file_extension": ".py",
      "mimetype": "text/x-python",
      "name": "python",
      "nbconvert_exporter": "python",
      "pygments_lexer": "ipython3",
      "version": "3.7.4"
    },
    "colab": {
      "name": "Optuna introduction.ipynb",
      "provenance": []
    }
  },
  "cells": [
    {
      "cell_type": "markdown",
      "metadata": {
        "id": "ZrnqYH9Gaw1X"
      },
      "source": [
        "# A Quick Introduction to Optuna\n",
        "\n",
        "This Jupyter notebook goes through the basic usage of Optuna.\n",
        "\n",
        "- Install Optuna\n",
        "- Write a training algorithm that involves hyperparameters\n",
        "  - Read train/valid data\n",
        "  - Define and train model\n",
        "  - Evaluate model\n",
        "- Use Optuna to tune the hyperparameters (hyperparameter optimization, HPO)\n",
        "- Visualize HPO"
      ]
    },
    {
      "cell_type": "markdown",
      "metadata": {
        "id": "kK87TI7eaw1d"
      },
      "source": [
        "## Install `optuna`\n",
        "\n",
        "Optuna can be installed via `pip` or `conda`."
      ]
    },
    {
      "cell_type": "code",
      "metadata": {
        "id": "al0RKXmSaw1e",
        "outputId": "7185cce7-443b-41aa-e312-94865165d9a2",
        "colab": {
          "base_uri": "https://localhost:8080/"
        }
      },
      "source": [
        "!pip install --quiet optuna"
      ],
      "execution_count": 1,
      "outputs": [
        {
          "output_type": "stream",
          "name": "stdout",
          "text": [
            "\u001b[K     |████████████████████████████████| 308 kB 5.5 MB/s \n",
            "\u001b[K     |████████████████████████████████| 80 kB 6.5 MB/s \n",
            "\u001b[K     |████████████████████████████████| 209 kB 48.4 MB/s \n",
            "\u001b[K     |████████████████████████████████| 75 kB 2.9 MB/s \n",
            "\u001b[K     |████████████████████████████████| 49 kB 3.3 MB/s \n",
            "\u001b[K     |████████████████████████████████| 111 kB 37.8 MB/s \n",
            "\u001b[K     |████████████████████████████████| 144 kB 37.0 MB/s \n",
            "\u001b[?25h  Building wheel for pyperclip (setup.py) ... \u001b[?25l\u001b[?25hdone\n"
          ]
        }
      ]
    },
    {
      "cell_type": "code",
      "metadata": {
        "id": "GTZiABZhaw1g",
        "outputId": "81ca043f-4eb8-46e0-ec88-e981d97cbdd7",
        "colab": {
          "base_uri": "https://localhost:8080/",
          "height": 35
        }
      },
      "source": [
        "import optuna\n",
        "\n",
        "optuna.__version__"
      ],
      "execution_count": 2,
      "outputs": [
        {
          "output_type": "execute_result",
          "data": {
            "application/vnd.google.colaboratory.intrinsic+json": {
              "type": "string"
            },
            "text/plain": [
              "'2.10.0'"
            ]
          },
          "metadata": {},
          "execution_count": 2
        }
      ]
    },
    {
      "cell_type": "markdown",
      "metadata": {
        "id": "ssyJwZWoaw1g"
      },
      "source": [
        "## Optimize Hyperparameters\n",
        "\n",
        "### Define a simple scikit-learn model\n",
        "\n",
        "We start with a simple random forest model to classify flowers in the Iris dataset. We define a function called `objective` that encapsulates the whole training process and outputs the accuracy of the model."
      ]
    },
    {
      "cell_type": "code",
      "metadata": {
        "id": "phFlJO-3aw1h",
        "outputId": "ca498f17-fa7b-41a2-93ab-3ac0ac398ec1",
        "colab": {
          "base_uri": "https://localhost:8080/"
        }
      },
      "source": [
        "import sklearn.datasets\n",
        "import sklearn.ensemble\n",
        "import sklearn.model_selection\n",
        "\n",
        "def objective():\n",
        "    iris = sklearn.datasets.load_iris()  # Prepare the data.\n",
        "    \n",
        "    clf = sklearn.ensemble.RandomForestClassifier(    \n",
        "        n_estimators=5, max_depth=3)  # Define the model.\n",
        "    \n",
        "    return sklearn.model_selection.cross_val_score(\n",
        "        clf, iris.data, iris.target, n_jobs=-1, cv=3).mean()  # Train and evaluate the model.\n",
        "\n",
        "print('Accuracy: {}'.format(objective()))"
      ],
      "execution_count": 3,
      "outputs": [
        {
          "output_type": "stream",
          "name": "stdout",
          "text": [
            "Accuracy: 0.9533333333333333\n"
          ]
        }
      ]
    },
    {
      "cell_type": "markdown",
      "metadata": {
        "id": "IZfPmSmSaw1i"
      },
      "source": [
        "### Optimize hyperparameters of the model\n",
        "\n",
        "The hyperparameters of the above algorithm are `n_estimators` and `max_depth` for which we can try different values to see if the model accuracy can be improved. The `objective` function is modified to accept a trial object. This trial has several methods for sampling hyperparameters. We create a study to run the hyperparameter optimization and finally read the best hyperparameters."
      ]
    },
    {
      "cell_type": "code",
      "metadata": {
        "id": "aBvMttOjaw1j",
        "outputId": "2ee95524-abe2-4ee4-8607-cd31faa7f068",
        "colab": {
          "base_uri": "https://localhost:8080/"
        }
      },
      "source": [
        "import optuna\n",
        "\n",
        "def objective(trial):\n",
        "    iris = sklearn.datasets.load_iris()\n",
        "    \n",
        "    n_estimators = trial.suggest_int('n_estimators', 2, 20)\n",
        "    max_depth = int(trial.suggest_float('max_depth', 1, 32, log=True))\n",
        "    \n",
        "    clf = sklearn.ensemble.RandomForestClassifier(\n",
        "        n_estimators=n_estimators, max_depth=max_depth)\n",
        "    \n",
        "    return sklearn.model_selection.cross_val_score(\n",
        "        clf, iris.data, iris.target, n_jobs=-1, cv=3).mean()\n",
        "\n",
        "study = optuna.create_study(direction='maximize')\n",
        "study.optimize(objective, n_trials=100)\n",
        "\n",
        "trial = study.best_trial\n",
        "\n",
        "print('Accuracy: {}'.format(trial.value))\n",
        "print(\"Best hyperparameters: {}\".format(trial.params))"
      ],
      "execution_count": 4,
      "outputs": [
        {
          "output_type": "stream",
          "name": "stderr",
          "text": [
            "\u001b[32m[I 2021-10-10 15:07:34,250]\u001b[0m A new study created in memory with name: no-name-feadaeca-5265-4c3e-bfcb-a8ff573e2946\u001b[0m\n",
            "\u001b[32m[I 2021-10-10 15:07:35,499]\u001b[0m Trial 0 finished with value: 0.96 and parameters: {'n_estimators': 19, 'max_depth': 1.1119769847073764}. Best is trial 0 with value: 0.96.\u001b[0m\n",
            "\u001b[32m[I 2021-10-10 15:07:35,590]\u001b[0m Trial 1 finished with value: 0.96 and parameters: {'n_estimators': 12, 'max_depth': 22.562901558799375}. Best is trial 0 with value: 0.96.\u001b[0m\n",
            "\u001b[32m[I 2021-10-10 15:07:35,622]\u001b[0m Trial 2 finished with value: 0.9333333333333332 and parameters: {'n_estimators': 2, 'max_depth': 24.22632248839123}. Best is trial 0 with value: 0.96.\u001b[0m\n",
            "\u001b[32m[I 2021-10-10 15:07:35,699]\u001b[0m Trial 3 finished with value: 0.9533333333333333 and parameters: {'n_estimators': 11, 'max_depth': 10.39068057426003}. Best is trial 0 with value: 0.96.\u001b[0m\n",
            "\u001b[32m[I 2021-10-10 15:07:35,759]\u001b[0m Trial 4 finished with value: 0.8533333333333334 and parameters: {'n_estimators': 9, 'max_depth': 1.0296925451855585}. Best is trial 0 with value: 0.96.\u001b[0m\n",
            "\u001b[32m[I 2021-10-10 15:07:35,804]\u001b[0m Trial 5 finished with value: 0.8533333333333334 and parameters: {'n_estimators': 5, 'max_depth': 1.245186857711935}. Best is trial 0 with value: 0.96.\u001b[0m\n",
            "\u001b[32m[I 2021-10-10 15:07:35,903]\u001b[0m Trial 6 finished with value: 0.94 and parameters: {'n_estimators': 17, 'max_depth': 19.051901065206035}. Best is trial 0 with value: 0.96.\u001b[0m\n",
            "\u001b[32m[I 2021-10-10 15:07:35,976]\u001b[0m Trial 7 finished with value: 0.96 and parameters: {'n_estimators': 12, 'max_depth': 14.110116767578864}. Best is trial 0 with value: 0.96.\u001b[0m\n",
            "\u001b[32m[I 2021-10-10 15:07:36,017]\u001b[0m Trial 8 finished with value: 0.9733333333333333 and parameters: {'n_estimators': 5, 'max_depth': 14.497811531365288}. Best is trial 8 with value: 0.9733333333333333.\u001b[0m\n",
            "\u001b[32m[I 2021-10-10 15:07:36,118]\u001b[0m Trial 9 finished with value: 0.9733333333333333 and parameters: {'n_estimators': 17, 'max_depth': 5.943794285581054}. Best is trial 8 with value: 0.9733333333333333.\u001b[0m\n",
            "\u001b[32m[I 2021-10-10 15:07:36,174]\u001b[0m Trial 10 finished with value: 0.94 and parameters: {'n_estimators': 6, 'max_depth': 2.8905669685831206}. Best is trial 8 with value: 0.9733333333333333.\u001b[0m\n",
            "\u001b[32m[I 2021-10-10 15:07:36,275]\u001b[0m Trial 11 finished with value: 0.9533333333333333 and parameters: {'n_estimators': 16, 'max_depth': 6.097565513046381}. Best is trial 8 with value: 0.9733333333333333.\u001b[0m\n",
            "\u001b[32m[I 2021-10-10 15:07:36,371]\u001b[0m Trial 12 finished with value: 0.96 and parameters: {'n_estimators': 15, 'max_depth': 6.789327627762843}. Best is trial 8 with value: 0.9733333333333333.\u001b[0m\n",
            "\u001b[32m[I 2021-10-10 15:07:36,482]\u001b[0m Trial 13 finished with value: 0.96 and parameters: {'n_estimators': 20, 'max_depth': 3.7780247398463214}. Best is trial 8 with value: 0.9733333333333333.\u001b[0m\n",
            "\u001b[32m[I 2021-10-10 15:07:36,520]\u001b[0m Trial 14 finished with value: 0.9466666666666667 and parameters: {'n_estimators': 2, 'max_depth': 9.588787220530115}. Best is trial 8 with value: 0.9733333333333333.\u001b[0m\n",
            "\u001b[32m[I 2021-10-10 15:07:36,586]\u001b[0m Trial 15 finished with value: 0.96 and parameters: {'n_estimators': 8, 'max_depth': 3.5563621165263197}. Best is trial 8 with value: 0.9733333333333333.\u001b[0m\n",
            "\u001b[32m[I 2021-10-10 15:07:36,681]\u001b[0m Trial 16 finished with value: 0.9466666666666667 and parameters: {'n_estimators': 14, 'max_depth': 2.2195755601559317}. Best is trial 8 with value: 0.9733333333333333.\u001b[0m\n",
            "\u001b[32m[I 2021-10-10 15:07:36,729]\u001b[0m Trial 17 finished with value: 0.96 and parameters: {'n_estimators': 5, 'max_depth': 31.703539659706053}. Best is trial 8 with value: 0.9733333333333333.\u001b[0m\n",
            "\u001b[32m[I 2021-10-10 15:07:36,796]\u001b[0m Trial 18 finished with value: 0.96 and parameters: {'n_estimators': 9, 'max_depth': 9.135703111464426}. Best is trial 8 with value: 0.9733333333333333.\u001b[0m\n",
            "\u001b[32m[I 2021-10-10 15:07:36,895]\u001b[0m Trial 19 finished with value: 0.96 and parameters: {'n_estimators': 14, 'max_depth': 14.254772950148151}. Best is trial 8 with value: 0.9733333333333333.\u001b[0m\n",
            "\u001b[32m[I 2021-10-10 15:07:37,001]\u001b[0m Trial 20 finished with value: 0.9666666666666667 and parameters: {'n_estimators': 18, 'max_depth': 4.793774047229159}. Best is trial 8 with value: 0.9733333333333333.\u001b[0m\n",
            "\u001b[32m[I 2021-10-10 15:07:37,111]\u001b[0m Trial 21 finished with value: 0.9533333333333333 and parameters: {'n_estimators': 18, 'max_depth': 4.7203052385579936}. Best is trial 8 with value: 0.9733333333333333.\u001b[0m\n",
            "\u001b[32m[I 2021-10-10 15:07:37,225]\u001b[0m Trial 22 finished with value: 0.9466666666666667 and parameters: {'n_estimators': 20, 'max_depth': 1.784300457660239}. Best is trial 8 with value: 0.9733333333333333.\u001b[0m\n",
            "\u001b[32m[I 2021-10-10 15:07:37,326]\u001b[0m Trial 23 finished with value: 0.96 and parameters: {'n_estimators': 17, 'max_depth': 6.778966172853625}. Best is trial 8 with value: 0.9733333333333333.\u001b[0m\n",
            "\u001b[32m[I 2021-10-10 15:07:37,409]\u001b[0m Trial 24 finished with value: 0.9533333333333333 and parameters: {'n_estimators': 14, 'max_depth': 4.764829130481676}. Best is trial 8 with value: 0.9733333333333333.\u001b[0m\n",
            "\u001b[32m[I 2021-10-10 15:07:37,509]\u001b[0m Trial 25 finished with value: 0.9533333333333333 and parameters: {'n_estimators': 18, 'max_depth': 12.93132572806641}. Best is trial 8 with value: 0.9733333333333333.\u001b[0m\n",
            "\u001b[32m[I 2021-10-10 15:07:37,565]\u001b[0m Trial 26 finished with value: 0.96 and parameters: {'n_estimators': 7, 'max_depth': 2.607905940483537}. Best is trial 8 with value: 0.9733333333333333.\u001b[0m\n",
            "\u001b[32m[I 2021-10-10 15:07:37,603]\u001b[0m Trial 27 finished with value: 0.9533333333333333 and parameters: {'n_estimators': 4, 'max_depth': 7.852748370962859}. Best is trial 8 with value: 0.9733333333333333.\u001b[0m\n",
            "\u001b[32m[I 2021-10-10 15:07:37,684]\u001b[0m Trial 28 finished with value: 0.9533333333333333 and parameters: {'n_estimators': 16, 'max_depth': 4.18900831736104}. Best is trial 8 with value: 0.9733333333333333.\u001b[0m\n",
            "\u001b[32m[I 2021-10-10 15:07:37,747]\u001b[0m Trial 29 finished with value: 0.96 and parameters: {'n_estimators': 10, 'max_depth': 5.724171111806177}. Best is trial 8 with value: 0.9733333333333333.\u001b[0m\n",
            "\u001b[32m[I 2021-10-10 15:07:37,849]\u001b[0m Trial 30 finished with value: 0.94 and parameters: {'n_estimators': 19, 'max_depth': 1.532669813391505}. Best is trial 8 with value: 0.9733333333333333.\u001b[0m\n",
            "\u001b[32m[I 2021-10-10 15:07:37,960]\u001b[0m Trial 31 finished with value: 0.96 and parameters: {'n_estimators': 19, 'max_depth': 19.1861942139636}. Best is trial 8 with value: 0.9733333333333333.\u001b[0m\n",
            "\u001b[32m[I 2021-10-10 15:07:38,040]\u001b[0m Trial 32 finished with value: 0.9533333333333333 and parameters: {'n_estimators': 12, 'max_depth': 3.0779321990129302}. Best is trial 8 with value: 0.9733333333333333.\u001b[0m\n",
            "\u001b[32m[I 2021-10-10 15:07:38,096]\u001b[0m Trial 33 finished with value: 0.9533333333333333 and parameters: {'n_estimators': 8, 'max_depth': 8.949193664119404}. Best is trial 8 with value: 0.9733333333333333.\u001b[0m\n",
            "\u001b[32m[I 2021-10-10 15:07:38,133]\u001b[0m Trial 34 finished with value: 0.9666666666666667 and parameters: {'n_estimators': 3, 'max_depth': 12.206960628348655}. Best is trial 8 with value: 0.9733333333333333.\u001b[0m\n",
            "\u001b[32m[I 2021-10-10 15:07:38,169]\u001b[0m Trial 35 finished with value: 0.9666666666666667 and parameters: {'n_estimators': 3, 'max_depth': 11.825012338770748}. Best is trial 8 with value: 0.9733333333333333.\u001b[0m\n",
            "\u001b[32m[I 2021-10-10 15:07:38,204]\u001b[0m Trial 36 finished with value: 0.9466666666666667 and parameters: {'n_estimators': 3, 'max_depth': 23.300971825112363}. Best is trial 8 with value: 0.9733333333333333.\u001b[0m\n",
            "\u001b[32m[I 2021-10-10 15:07:38,258]\u001b[0m Trial 37 finished with value: 0.96 and parameters: {'n_estimators': 5, 'max_depth': 15.653841179552083}. Best is trial 8 with value: 0.9733333333333333.\u001b[0m\n",
            "\u001b[32m[I 2021-10-10 15:07:38,291]\u001b[0m Trial 38 finished with value: 0.96 and parameters: {'n_estimators': 2, 'max_depth': 11.679130856652433}. Best is trial 8 with value: 0.9733333333333333.\u001b[0m\n",
            "\u001b[32m[I 2021-10-10 15:07:38,331]\u001b[0m Trial 39 finished with value: 0.9533333333333333 and parameters: {'n_estimators': 3, 'max_depth': 17.31956814118492}. Best is trial 8 with value: 0.9733333333333333.\u001b[0m\n",
            "\u001b[32m[I 2021-10-10 15:07:38,375]\u001b[0m Trial 40 finished with value: 0.9333333333333332 and parameters: {'n_estimators': 4, 'max_depth': 11.613716592187833}. Best is trial 8 with value: 0.9733333333333333.\u001b[0m\n",
            "\u001b[32m[I 2021-10-10 15:07:38,427]\u001b[0m Trial 41 finished with value: 0.96 and parameters: {'n_estimators': 6, 'max_depth': 28.745296702476164}. Best is trial 8 with value: 0.9733333333333333.\u001b[0m\n",
            "\u001b[32m[I 2021-10-10 15:07:38,466]\u001b[0m Trial 42 finished with value: 0.94 and parameters: {'n_estimators': 3, 'max_depth': 8.311703022248563}. Best is trial 8 with value: 0.9733333333333333.\u001b[0m\n",
            "\u001b[32m[I 2021-10-10 15:07:38,511]\u001b[0m Trial 43 finished with value: 0.9666666666666667 and parameters: {'n_estimators': 4, 'max_depth': 7.406671630683181}. Best is trial 8 with value: 0.9733333333333333.\u001b[0m\n",
            "\u001b[32m[I 2021-10-10 15:07:38,559]\u001b[0m Trial 44 finished with value: 0.9533333333333333 and parameters: {'n_estimators': 4, 'max_depth': 11.15482187746603}. Best is trial 8 with value: 0.9733333333333333.\u001b[0m\n",
            "\u001b[32m[I 2021-10-10 15:07:38,609]\u001b[0m Trial 45 finished with value: 0.9533333333333333 and parameters: {'n_estimators': 6, 'max_depth': 7.108077216311381}. Best is trial 8 with value: 0.9733333333333333.\u001b[0m\n",
            "\u001b[32m[I 2021-10-10 15:07:38,700]\u001b[0m Trial 46 finished with value: 0.96 and parameters: {'n_estimators': 11, 'max_depth': 4.726469475926248}. Best is trial 8 with value: 0.9733333333333333.\u001b[0m\n",
            "\u001b[32m[I 2021-10-10 15:07:38,737]\u001b[0m Trial 47 finished with value: 0.94 and parameters: {'n_estimators': 2, 'max_depth': 19.27997973093591}. Best is trial 8 with value: 0.9733333333333333.\u001b[0m\n",
            "\u001b[32m[I 2021-10-10 15:07:38,791]\u001b[0m Trial 48 finished with value: 0.9666666666666667 and parameters: {'n_estimators': 7, 'max_depth': 5.697392698290942}. Best is trial 8 with value: 0.9733333333333333.\u001b[0m\n",
            "\u001b[32m[I 2021-10-10 15:07:38,888]\u001b[0m Trial 49 finished with value: 0.96 and parameters: {'n_estimators': 16, 'max_depth': 9.947845888244961}. Best is trial 8 with value: 0.9733333333333333.\u001b[0m\n",
            "\u001b[32m[I 2021-10-10 15:07:38,948]\u001b[0m Trial 50 finished with value: 0.9533333333333333 and parameters: {'n_estimators': 7, 'max_depth': 5.562620729494553}. Best is trial 8 with value: 0.9733333333333333.\u001b[0m\n",
            "\u001b[32m[I 2021-10-10 15:07:38,997]\u001b[0m Trial 51 finished with value: 0.96 and parameters: {'n_estimators': 5, 'max_depth': 7.477318620590232}. Best is trial 8 with value: 0.9733333333333333.\u001b[0m\n",
            "\u001b[32m[I 2021-10-10 15:07:39,053]\u001b[0m Trial 52 finished with value: 0.96 and parameters: {'n_estimators': 7, 'max_depth': 6.204752840544264}. Best is trial 8 with value: 0.9733333333333333.\u001b[0m\n",
            "\u001b[32m[I 2021-10-10 15:07:39,102]\u001b[0m Trial 53 finished with value: 0.96 and parameters: {'n_estimators': 4, 'max_depth': 5.2911055045972395}. Best is trial 8 with value: 0.9733333333333333.\u001b[0m\n",
            "\u001b[32m[I 2021-10-10 15:07:39,154]\u001b[0m Trial 54 finished with value: 0.9533333333333333 and parameters: {'n_estimators': 5, 'max_depth': 6.3009349812316655}. Best is trial 8 with value: 0.9733333333333333.\u001b[0m\n",
            "\u001b[32m[I 2021-10-10 15:07:39,271]\u001b[0m Trial 55 finished with value: 0.9533333333333333 and parameters: {'n_estimators': 18, 'max_depth': 3.415503273216982}. Best is trial 8 with value: 0.9733333333333333.\u001b[0m\n",
            "\u001b[32m[I 2021-10-10 15:07:39,319]\u001b[0m Trial 56 finished with value: 0.9533333333333333 and parameters: {'n_estimators': 3, 'max_depth': 14.040447371719004}. Best is trial 8 with value: 0.9733333333333333.\u001b[0m\n",
            "\u001b[32m[I 2021-10-10 15:07:39,354]\u001b[0m Trial 57 finished with value: 0.9533333333333333 and parameters: {'n_estimators': 2, 'max_depth': 10.370302574549621}. Best is trial 8 with value: 0.9733333333333333.\u001b[0m\n",
            "\u001b[32m[I 2021-10-10 15:07:39,432]\u001b[0m Trial 58 finished with value: 0.96 and parameters: {'n_estimators': 13, 'max_depth': 3.962570909849809}. Best is trial 8 with value: 0.9733333333333333.\u001b[0m\n",
            "\u001b[32m[I 2021-10-10 15:07:39,469]\u001b[0m Trial 59 finished with value: 0.9666666666666667 and parameters: {'n_estimators': 3, 'max_depth': 13.100311414683578}. Best is trial 8 with value: 0.9733333333333333.\u001b[0m\n",
            "\u001b[32m[I 2021-10-10 15:07:39,503]\u001b[0m Trial 60 finished with value: 0.9333333333333332 and parameters: {'n_estimators': 3, 'max_depth': 16.446167517689577}. Best is trial 8 with value: 0.9733333333333333.\u001b[0m\n",
            "\u001b[32m[I 2021-10-10 15:07:39,553]\u001b[0m Trial 61 finished with value: 0.94 and parameters: {'n_estimators': 6, 'max_depth': 8.372127402816071}. Best is trial 8 with value: 0.9733333333333333.\u001b[0m\n",
            "\u001b[32m[I 2021-10-10 15:07:39,597]\u001b[0m Trial 62 finished with value: 0.9466666666666667 and parameters: {'n_estimators': 4, 'max_depth': 4.270000736865552}. Best is trial 8 with value: 0.9733333333333333.\u001b[0m\n",
            "\u001b[32m[I 2021-10-10 15:07:39,699]\u001b[0m Trial 63 finished with value: 0.96 and parameters: {'n_estimators': 17, 'max_depth': 21.57785752585682}. Best is trial 8 with value: 0.9733333333333333.\u001b[0m\n",
            "\u001b[32m[I 2021-10-10 15:07:39,808]\u001b[0m Trial 64 finished with value: 0.9466666666666667 and parameters: {'n_estimators': 20, 'max_depth': 13.103255004354192}. Best is trial 8 with value: 0.9733333333333333.\u001b[0m\n",
            "\u001b[32m[I 2021-10-10 15:07:39,851]\u001b[0m Trial 65 finished with value: 0.9666666666666667 and parameters: {'n_estimators': 5, 'max_depth': 12.501275193479959}. Best is trial 8 with value: 0.9733333333333333.\u001b[0m\n",
            "\u001b[32m[I 2021-10-10 15:07:39,882]\u001b[0m Trial 66 finished with value: 0.9533333333333333 and parameters: {'n_estimators': 2, 'max_depth': 15.063871887182861}. Best is trial 8 with value: 0.9733333333333333.\u001b[0m\n",
            "\u001b[32m[I 2021-10-10 15:07:39,922]\u001b[0m Trial 67 finished with value: 0.9533333333333333 and parameters: {'n_estimators': 4, 'max_depth': 11.40410183832765}. Best is trial 8 with value: 0.9733333333333333.\u001b[0m\n",
            "\u001b[32m[I 2021-10-10 15:07:39,988]\u001b[0m Trial 68 finished with value: 0.9533333333333333 and parameters: {'n_estimators': 9, 'max_depth': 5.184424449398511}. Best is trial 8 with value: 0.9733333333333333.\u001b[0m\n",
            "\u001b[32m[I 2021-10-10 15:07:40,050]\u001b[0m Trial 69 finished with value: 0.9733333333333333 and parameters: {'n_estimators': 8, 'max_depth': 6.558043719820988}. Best is trial 8 with value: 0.9733333333333333.\u001b[0m\n",
            "\u001b[32m[I 2021-10-10 15:07:40,109]\u001b[0m Trial 70 finished with value: 0.96 and parameters: {'n_estimators': 8, 'max_depth': 6.812613281601457}. Best is trial 8 with value: 0.9733333333333333.\u001b[0m\n",
            "\u001b[32m[I 2021-10-10 15:07:40,171]\u001b[0m Trial 71 finished with value: 0.96 and parameters: {'n_estimators': 7, 'max_depth': 9.152982219354383}. Best is trial 8 with value: 0.9733333333333333.\u001b[0m\n",
            "\u001b[32m[I 2021-10-10 15:07:40,236]\u001b[0m Trial 72 finished with value: 0.96 and parameters: {'n_estimators': 10, 'max_depth': 12.931234507774386}. Best is trial 8 with value: 0.9733333333333333.\u001b[0m\n",
            "\u001b[32m[I 2021-10-10 15:07:40,291]\u001b[0m Trial 73 finished with value: 0.96 and parameters: {'n_estimators': 5, 'max_depth': 17.184652060731523}. Best is trial 8 with value: 0.9733333333333333.\u001b[0m\n",
            "\u001b[32m[I 2021-10-10 15:07:40,400]\u001b[0m Trial 74 finished with value: 0.9666666666666667 and parameters: {'n_estimators': 19, 'max_depth': 26.227412705658406}. Best is trial 8 with value: 0.9733333333333333.\u001b[0m\n",
            "\u001b[32m[I 2021-10-10 15:07:40,512]\u001b[0m Trial 75 finished with value: 0.96 and parameters: {'n_estimators': 19, 'max_depth': 26.69749293055286}. Best is trial 8 with value: 0.9733333333333333.\u001b[0m\n",
            "\u001b[32m[I 2021-10-10 15:07:40,618]\u001b[0m Trial 76 finished with value: 0.9666666666666667 and parameters: {'n_estimators': 18, 'max_depth': 21.659961549650077}. Best is trial 8 with value: 0.9733333333333333.\u001b[0m\n",
            "\u001b[32m[I 2021-10-10 15:07:40,706]\u001b[0m Trial 77 finished with value: 0.9666666666666667 and parameters: {'n_estimators': 15, 'max_depth': 27.498225743523516}. Best is trial 8 with value: 0.9733333333333333.\u001b[0m\n",
            "\u001b[32m[I 2021-10-10 15:07:40,757]\u001b[0m Trial 78 finished with value: 0.96 and parameters: {'n_estimators': 6, 'max_depth': 5.926011742525074}. Best is trial 8 with value: 0.9733333333333333.\u001b[0m\n",
            "\u001b[32m[I 2021-10-10 15:07:40,795]\u001b[0m Trial 79 finished with value: 0.96 and parameters: {'n_estimators': 4, 'max_depth': 8.614299374256726}. Best is trial 8 with value: 0.9733333333333333.\u001b[0m\n",
            "\u001b[32m[I 2021-10-10 15:07:40,849]\u001b[0m Trial 80 finished with value: 0.96 and parameters: {'n_estimators': 5, 'max_depth': 7.868503697641932}. Best is trial 8 with value: 0.9733333333333333.\u001b[0m\n",
            "\u001b[32m[I 2021-10-10 15:07:40,899]\u001b[0m Trial 81 finished with value: 0.96 and parameters: {'n_estimators': 6, 'max_depth': 4.473549557712899}. Best is trial 8 with value: 0.9733333333333333.\u001b[0m\n",
            "\u001b[32m[I 2021-10-10 15:07:40,941]\u001b[0m Trial 82 finished with value: 0.9733333333333333 and parameters: {'n_estimators': 3, 'max_depth': 12.160240449311274}. Best is trial 8 with value: 0.9733333333333333.\u001b[0m\n",
            "\u001b[32m[I 2021-10-10 15:07:41,014]\u001b[0m Trial 83 finished with value: 0.96 and parameters: {'n_estimators': 10, 'max_depth': 5.13004418596998}. Best is trial 8 with value: 0.9733333333333333.\u001b[0m\n",
            "\u001b[32m[I 2021-10-10 15:07:41,081]\u001b[0m Trial 84 finished with value: 0.9533333333333333 and parameters: {'n_estimators': 8, 'max_depth': 3.4895305641539753}. Best is trial 8 with value: 0.9733333333333333.\u001b[0m\n",
            "\u001b[32m[I 2021-10-10 15:07:41,134]\u001b[0m Trial 85 finished with value: 0.9666666666666667 and parameters: {'n_estimators': 7, 'max_depth': 6.58035734303728}. Best is trial 8 with value: 0.9733333333333333.\u001b[0m\n",
            "\u001b[32m[I 2021-10-10 15:07:41,213]\u001b[0m Trial 86 finished with value: 0.9533333333333333 and parameters: {'n_estimators': 13, 'max_depth': 7.343906251999791}. Best is trial 8 with value: 0.9733333333333333.\u001b[0m\n",
            "\u001b[32m[I 2021-10-10 15:07:41,273]\u001b[0m Trial 87 finished with value: 0.96 and parameters: {'n_estimators': 9, 'max_depth': 10.796876528609976}. Best is trial 8 with value: 0.9733333333333333.\u001b[0m\n",
            "\u001b[32m[I 2021-10-10 15:07:41,329]\u001b[0m Trial 88 finished with value: 0.9733333333333333 and parameters: {'n_estimators': 5, 'max_depth': 14.380661936180987}. Best is trial 8 with value: 0.9733333333333333.\u001b[0m\n",
            "\u001b[32m[I 2021-10-10 15:07:41,375]\u001b[0m Trial 89 finished with value: 0.96 and parameters: {'n_estimators': 5, 'max_depth': 9.797339240446595}. Best is trial 8 with value: 0.9733333333333333.\u001b[0m\n",
            "\u001b[32m[I 2021-10-10 15:07:41,484]\u001b[0m Trial 90 finished with value: 0.96 and parameters: {'n_estimators': 17, 'max_depth': 18.22308389541129}. Best is trial 8 with value: 0.9733333333333333.\u001b[0m\n",
            "\u001b[32m[I 2021-10-10 15:07:41,599]\u001b[0m Trial 91 finished with value: 0.9533333333333333 and parameters: {'n_estimators': 18, 'max_depth': 31.773615034825358}. Best is trial 8 with value: 0.9733333333333333.\u001b[0m\n",
            "\u001b[32m[I 2021-10-10 15:07:41,687]\u001b[0m Trial 92 finished with value: 0.94 and parameters: {'n_estimators': 15, 'max_depth': 20.70060360145663}. Best is trial 8 with value: 0.9733333333333333.\u001b[0m\n",
            "\u001b[32m[I 2021-10-10 15:07:41,739]\u001b[0m Trial 93 finished with value: 0.9666666666666667 and parameters: {'n_estimators': 7, 'max_depth': 6.413025864978729}. Best is trial 8 with value: 0.9733333333333333.\u001b[0m\n",
            "\u001b[32m[I 2021-10-10 15:07:41,858]\u001b[0m Trial 94 finished with value: 0.96 and parameters: {'n_estimators': 19, 'max_depth': 25.713312412000317}. Best is trial 8 with value: 0.9733333333333333.\u001b[0m\n",
            "\u001b[32m[I 2021-10-10 15:07:41,946]\u001b[0m Trial 95 finished with value: 0.9466666666666667 and parameters: {'n_estimators': 16, 'max_depth': 22.82126477928022}. Best is trial 8 with value: 0.9733333333333333.\u001b[0m\n",
            "\u001b[32m[I 2021-10-10 15:07:42,012]\u001b[0m Trial 96 finished with value: 0.9533333333333333 and parameters: {'n_estimators': 8, 'max_depth': 4.719677757638381}. Best is trial 8 with value: 0.9733333333333333.\u001b[0m\n",
            "\u001b[32m[I 2021-10-10 15:07:42,061]\u001b[0m Trial 97 finished with value: 0.9533333333333333 and parameters: {'n_estimators': 3, 'max_depth': 12.505016947626348}. Best is trial 8 with value: 0.9733333333333333.\u001b[0m\n",
            "\u001b[32m[I 2021-10-10 15:07:42,100]\u001b[0m Trial 98 finished with value: 0.9666666666666667 and parameters: {'n_estimators': 3, 'max_depth': 13.955907705650592}. Best is trial 8 with value: 0.9733333333333333.\u001b[0m\n",
            "\u001b[32m[I 2021-10-10 15:07:42,141]\u001b[0m Trial 99 finished with value: 0.96 and parameters: {'n_estimators': 3, 'max_depth': 14.78853444027918}. Best is trial 8 with value: 0.9733333333333333.\u001b[0m\n"
          ]
        },
        {
          "output_type": "stream",
          "name": "stdout",
          "text": [
            "Accuracy: 0.9733333333333333\n",
            "Best hyperparameters: {'n_estimators': 5, 'max_depth': 14.497811531365288}\n"
          ]
        }
      ]
    },
    {
      "cell_type": "markdown",
      "metadata": {
        "id": "wDhTcIDVaw1k"
      },
      "source": [
        "It is possible to condition hyperparameters using Python `if` statements. We can for instance include another classifier, a support vector machine, in our HPO and define hyperparameters specific to the random forest model and the support vector machine."
      ]
    },
    {
      "cell_type": "code",
      "metadata": {
        "id": "4jw-orxfaw1k",
        "outputId": "e461f7d8-b74a-4062-c817-ac4e675d096f",
        "colab": {
          "base_uri": "https://localhost:8080/"
        }
      },
      "source": [
        "import sklearn.svm\n",
        "\n",
        "def objective(trial):\n",
        "    iris = sklearn.datasets.load_iris()\n",
        "\n",
        "    classifier = trial.suggest_categorical('classifier', ['RandomForest', 'SVC'])\n",
        "    \n",
        "    if classifier == 'RandomForest':\n",
        "        n_estimators = trial.suggest_int('n_estimators', 2, 20)\n",
        "        max_depth = int(trial.suggest_float('max_depth', 1, 32, log=True))\n",
        "\n",
        "        clf = sklearn.ensemble.RandomForestClassifier(\n",
        "            n_estimators=n_estimators, max_depth=max_depth)\n",
        "    else:\n",
        "        c = trial.suggest_float('svc_c', 1e-10, 1e10, log=True)\n",
        "        \n",
        "        clf = sklearn.svm.SVC(C=c, gamma='auto')\n",
        "\n",
        "    return sklearn.model_selection.cross_val_score(\n",
        "        clf, iris.data, iris.target, n_jobs=-1, cv=3).mean()\n",
        "\n",
        "study = optuna.create_study(direction='maximize')\n",
        "study.optimize(objective, n_trials=100)\n",
        "\n",
        "trial = study.best_trial\n",
        "\n",
        "print('Accuracy: {}'.format(trial.value))\n",
        "print(\"Best hyperparameters: {}\".format(trial.params))"
      ],
      "execution_count": 5,
      "outputs": [
        {
          "output_type": "stream",
          "name": "stderr",
          "text": [
            "\u001b[32m[I 2021-10-10 15:12:47,150]\u001b[0m A new study created in memory with name: no-name-298638cc-4cb3-4ae3-a021-87ccb9a75f06\u001b[0m\n",
            "\u001b[32m[I 2021-10-10 15:12:48,116]\u001b[0m Trial 0 finished with value: 0.96 and parameters: {'classifier': 'SVC', 'svc_c': 134.8572136371431}. Best is trial 0 with value: 0.96.\u001b[0m\n",
            "\u001b[32m[I 2021-10-10 15:12:48,148]\u001b[0m Trial 1 finished with value: 0.96 and parameters: {'classifier': 'SVC', 'svc_c': 2550490167.085934}. Best is trial 0 with value: 0.96.\u001b[0m\n",
            "\u001b[32m[I 2021-10-10 15:12:48,171]\u001b[0m Trial 2 finished with value: 0.9733333333333333 and parameters: {'classifier': 'SVC', 'svc_c': 0.9868829239262082}. Best is trial 2 with value: 0.9733333333333333.\u001b[0m\n",
            "\u001b[32m[I 2021-10-10 15:12:48,191]\u001b[0m Trial 3 finished with value: 0.32 and parameters: {'classifier': 'SVC', 'svc_c': 1.9918124372157155e-09}. Best is trial 2 with value: 0.9733333333333333.\u001b[0m\n",
            "\u001b[32m[I 2021-10-10 15:12:48,279]\u001b[0m Trial 4 finished with value: 0.96 and parameters: {'classifier': 'RandomForest', 'n_estimators': 7, 'max_depth': 15.47457983139648}. Best is trial 2 with value: 0.9733333333333333.\u001b[0m\n",
            "\u001b[32m[I 2021-10-10 15:12:48,314]\u001b[0m Trial 5 finished with value: 0.7466666666666667 and parameters: {'classifier': 'SVC', 'svc_c': 0.023613145413059155}. Best is trial 2 with value: 0.9733333333333333.\u001b[0m\n",
            "\u001b[32m[I 2021-10-10 15:12:48,389]\u001b[0m Trial 6 finished with value: 0.9466666666666667 and parameters: {'classifier': 'RandomForest', 'n_estimators': 11, 'max_depth': 5.119967264940351}. Best is trial 2 with value: 0.9733333333333333.\u001b[0m\n",
            "\u001b[32m[I 2021-10-10 15:12:48,475]\u001b[0m Trial 7 finished with value: 0.96 and parameters: {'classifier': 'RandomForest', 'n_estimators': 14, 'max_depth': 9.846697001079479}. Best is trial 2 with value: 0.9733333333333333.\u001b[0m\n",
            "\u001b[32m[I 2021-10-10 15:12:48,502]\u001b[0m Trial 8 finished with value: 0.32 and parameters: {'classifier': 'SVC', 'svc_c': 1.29094457702716e-10}. Best is trial 2 with value: 0.9733333333333333.\u001b[0m\n",
            "\u001b[32m[I 2021-10-10 15:12:48,525]\u001b[0m Trial 9 finished with value: 0.96 and parameters: {'classifier': 'SVC', 'svc_c': 167870.70722196062}. Best is trial 2 with value: 0.9733333333333333.\u001b[0m\n",
            "\u001b[32m[I 2021-10-10 15:12:48,555]\u001b[0m Trial 10 finished with value: 0.32 and parameters: {'classifier': 'SVC', 'svc_c': 0.000663688827604013}. Best is trial 2 with value: 0.9733333333333333.\u001b[0m\n",
            "\u001b[32m[I 2021-10-10 15:12:48,579]\u001b[0m Trial 11 finished with value: 0.96 and parameters: {'classifier': 'SVC', 'svc_c': 139.93728330517197}. Best is trial 2 with value: 0.9733333333333333.\u001b[0m\n",
            "\u001b[32m[I 2021-10-10 15:12:48,612]\u001b[0m Trial 12 finished with value: 0.9466666666666667 and parameters: {'classifier': 'SVC', 'svc_c': 338.1082280998289}. Best is trial 2 with value: 0.9733333333333333.\u001b[0m\n",
            "\u001b[32m[I 2021-10-10 15:12:48,637]\u001b[0m Trial 13 finished with value: 0.32 and parameters: {'classifier': 'SVC', 'svc_c': 6.707796872216583e-05}. Best is trial 2 with value: 0.9733333333333333.\u001b[0m\n",
            "\u001b[32m[I 2021-10-10 15:12:48,663]\u001b[0m Trial 14 finished with value: 0.96 and parameters: {'classifier': 'SVC', 'svc_c': 1008172.7555789978}. Best is trial 2 with value: 0.9733333333333333.\u001b[0m\n",
            "\u001b[32m[I 2021-10-10 15:12:48,781]\u001b[0m Trial 15 finished with value: 0.9466666666666667 and parameters: {'classifier': 'RandomForest', 'n_estimators': 20, 'max_depth': 1.0692543590891082}. Best is trial 2 with value: 0.9733333333333333.\u001b[0m\n",
            "\u001b[32m[I 2021-10-10 15:12:48,804]\u001b[0m Trial 16 finished with value: 0.98 and parameters: {'classifier': 'SVC', 'svc_c': 5.800081178924859}. Best is trial 16 with value: 0.98.\u001b[0m\n",
            "\u001b[32m[I 2021-10-10 15:12:48,831]\u001b[0m Trial 17 finished with value: 0.32 and parameters: {'classifier': 'SVC', 'svc_c': 8.923148792278298e-07}. Best is trial 16 with value: 0.98.\u001b[0m\n",
            "\u001b[32m[I 2021-10-10 15:12:48,875]\u001b[0m Trial 18 finished with value: 0.6666666666666666 and parameters: {'classifier': 'RandomForest', 'n_estimators': 2, 'max_depth': 1.0363995018128809}. Best is trial 16 with value: 0.98.\u001b[0m\n",
            "\u001b[32m[I 2021-10-10 15:12:48,903]\u001b[0m Trial 19 finished with value: 0.9666666666666667 and parameters: {'classifier': 'SVC', 'svc_c': 0.4944360758974502}. Best is trial 16 with value: 0.98.\u001b[0m\n",
            "\u001b[32m[I 2021-10-10 15:12:48,931]\u001b[0m Trial 20 finished with value: 0.96 and parameters: {'classifier': 'SVC', 'svc_c': 19014.78432504853}. Best is trial 16 with value: 0.98.\u001b[0m\n",
            "\u001b[32m[I 2021-10-10 15:12:48,956]\u001b[0m Trial 21 finished with value: 0.96 and parameters: {'classifier': 'SVC', 'svc_c': 0.2935912314946028}. Best is trial 16 with value: 0.98.\u001b[0m\n",
            "\u001b[32m[I 2021-10-10 15:12:48,982]\u001b[0m Trial 22 finished with value: 0.9666666666666667 and parameters: {'classifier': 'SVC', 'svc_c': 0.5787729914917905}. Best is trial 16 with value: 0.98.\u001b[0m\n",
            "\u001b[32m[I 2021-10-10 15:12:49,009]\u001b[0m Trial 23 finished with value: 0.32 and parameters: {'classifier': 'SVC', 'svc_c': 0.00215021915311583}. Best is trial 16 with value: 0.98.\u001b[0m\n",
            "\u001b[32m[I 2021-10-10 15:12:49,035]\u001b[0m Trial 24 finished with value: 0.9733333333333333 and parameters: {'classifier': 'SVC', 'svc_c': 12.263967659603646}. Best is trial 16 with value: 0.98.\u001b[0m\n",
            "\u001b[32m[I 2021-10-10 15:12:49,069]\u001b[0m Trial 25 finished with value: 0.96 and parameters: {'classifier': 'SVC', 'svc_c': 51.284721954997224}. Best is trial 16 with value: 0.98.\u001b[0m\n",
            "\u001b[32m[I 2021-10-10 15:12:49,197]\u001b[0m Trial 26 finished with value: 0.9666666666666667 and parameters: {'classifier': 'RandomForest', 'n_estimators': 19, 'max_depth': 30.487615486170736}. Best is trial 16 with value: 0.98.\u001b[0m\n",
            "\u001b[32m[I 2021-10-10 15:12:49,221]\u001b[0m Trial 27 finished with value: 0.32 and parameters: {'classifier': 'SVC', 'svc_c': 2.3323572910067464e-05}. Best is trial 16 with value: 0.98.\u001b[0m\n",
            "\u001b[32m[I 2021-10-10 15:12:49,245]\u001b[0m Trial 28 finished with value: 0.96 and parameters: {'classifier': 'SVC', 'svc_c': 4217828.9289502865}. Best is trial 16 with value: 0.98.\u001b[0m\n",
            "\u001b[32m[I 2021-10-10 15:12:49,273]\u001b[0m Trial 29 finished with value: 0.96 and parameters: {'classifier': 'SVC', 'svc_c': 16010.040106656093}. Best is trial 16 with value: 0.98.\u001b[0m\n",
            "\u001b[32m[I 2021-10-10 15:12:49,295]\u001b[0m Trial 30 finished with value: 0.9666666666666667 and parameters: {'classifier': 'SVC', 'svc_c': 20.314254848647856}. Best is trial 16 with value: 0.98.\u001b[0m\n",
            "\u001b[32m[I 2021-10-10 15:12:49,321]\u001b[0m Trial 31 finished with value: 0.98 and parameters: {'classifier': 'SVC', 'svc_c': 8.679005517644697}. Best is trial 16 with value: 0.98.\u001b[0m\n",
            "\u001b[32m[I 2021-10-10 15:12:49,349]\u001b[0m Trial 32 finished with value: 0.98 and parameters: {'classifier': 'SVC', 'svc_c': 7.387185664791078}. Best is trial 16 with value: 0.98.\u001b[0m\n",
            "\u001b[32m[I 2021-10-10 15:12:49,374]\u001b[0m Trial 33 finished with value: 0.96 and parameters: {'classifier': 'SVC', 'svc_c': 2516.8588815361286}. Best is trial 16 with value: 0.98.\u001b[0m\n",
            "\u001b[32m[I 2021-10-10 15:12:49,399]\u001b[0m Trial 34 finished with value: 0.32 and parameters: {'classifier': 'SVC', 'svc_c': 0.004798320079091323}. Best is trial 16 with value: 0.98.\u001b[0m\n",
            "\u001b[32m[I 2021-10-10 15:12:49,426]\u001b[0m Trial 35 finished with value: 0.9199999999999999 and parameters: {'classifier': 'SVC', 'svc_c': 0.057967993472170784}. Best is trial 16 with value: 0.98.\u001b[0m\n",
            "\u001b[32m[I 2021-10-10 15:12:49,448]\u001b[0m Trial 36 finished with value: 0.9866666666666667 and parameters: {'classifier': 'SVC', 'svc_c': 3.7755978290060717}. Best is trial 36 with value: 0.9866666666666667.\u001b[0m\n",
            "\u001b[32m[I 2021-10-10 15:12:49,480]\u001b[0m Trial 37 finished with value: 0.9333333333333332 and parameters: {'classifier': 'RandomForest', 'n_estimators': 2, 'max_depth': 3.6255531843442057}. Best is trial 36 with value: 0.9866666666666667.\u001b[0m\n",
            "\u001b[32m[I 2021-10-10 15:12:49,500]\u001b[0m Trial 38 finished with value: 0.98 and parameters: {'classifier': 'SVC', 'svc_c': 5.190308651337568}. Best is trial 36 with value: 0.9866666666666667.\u001b[0m\n",
            "\u001b[32m[I 2021-10-10 15:12:49,523]\u001b[0m Trial 39 finished with value: 0.96 and parameters: {'classifier': 'SVC', 'svc_c': 68149441.88966025}. Best is trial 36 with value: 0.9866666666666667.\u001b[0m\n",
            "\u001b[32m[I 2021-10-10 15:12:49,617]\u001b[0m Trial 40 finished with value: 0.9666666666666667 and parameters: {'classifier': 'RandomForest', 'n_estimators': 14, 'max_depth': 2.3461859901578968}. Best is trial 36 with value: 0.9866666666666667.\u001b[0m\n",
            "\u001b[32m[I 2021-10-10 15:12:49,646]\u001b[0m Trial 41 finished with value: 0.98 and parameters: {'classifier': 'SVC', 'svc_c': 6.673213285867518}. Best is trial 36 with value: 0.9866666666666667.\u001b[0m\n",
            "\u001b[32m[I 2021-10-10 15:12:49,668]\u001b[0m Trial 42 finished with value: 0.9466666666666667 and parameters: {'classifier': 'SVC', 'svc_c': 326.21816100818694}. Best is trial 36 with value: 0.9866666666666667.\u001b[0m\n",
            "\u001b[32m[I 2021-10-10 15:12:49,692]\u001b[0m Trial 43 finished with value: 0.9733333333333333 and parameters: {'classifier': 'SVC', 'svc_c': 1.9690411280890634}. Best is trial 36 with value: 0.9866666666666667.\u001b[0m\n",
            "\u001b[32m[I 2021-10-10 15:12:49,728]\u001b[0m Trial 44 finished with value: 0.96 and parameters: {'classifier': 'SVC', 'svc_c': 1543.8386928622783}. Best is trial 36 with value: 0.9866666666666667.\u001b[0m\n",
            "\u001b[32m[I 2021-10-10 15:12:49,759]\u001b[0m Trial 45 finished with value: 0.94 and parameters: {'classifier': 'SVC', 'svc_c': 0.09856132230756688}. Best is trial 36 with value: 0.9866666666666667.\u001b[0m\n",
            "\u001b[32m[I 2021-10-10 15:12:49,785]\u001b[0m Trial 46 finished with value: 0.32 and parameters: {'classifier': 'SVC', 'svc_c': 0.015991677889121553}. Best is trial 36 with value: 0.9866666666666667.\u001b[0m\n",
            "\u001b[32m[I 2021-10-10 15:12:49,816]\u001b[0m Trial 47 finished with value: 0.9866666666666667 and parameters: {'classifier': 'SVC', 'svc_c': 4.216536737244284}. Best is trial 36 with value: 0.9866666666666667.\u001b[0m\n",
            "\u001b[32m[I 2021-10-10 15:12:49,849]\u001b[0m Trial 48 finished with value: 0.96 and parameters: {'classifier': 'SVC', 'svc_c': 5355.335459989226}. Best is trial 36 with value: 0.9866666666666667.\u001b[0m\n",
            "\u001b[32m[I 2021-10-10 15:12:49,875]\u001b[0m Trial 49 finished with value: 0.96 and parameters: {'classifier': 'SVC', 'svc_c': 135.67119700926804}. Best is trial 36 with value: 0.9866666666666667.\u001b[0m\n",
            "\u001b[32m[I 2021-10-10 15:12:49,932]\u001b[0m Trial 50 finished with value: 0.96 and parameters: {'classifier': 'RandomForest', 'n_estimators': 7, 'max_depth': 29.115276886334076}. Best is trial 36 with value: 0.9866666666666667.\u001b[0m\n",
            "\u001b[32m[I 2021-10-10 15:12:49,958]\u001b[0m Trial 51 finished with value: 0.9866666666666667 and parameters: {'classifier': 'SVC', 'svc_c': 4.645579708591118}. Best is trial 36 with value: 0.9866666666666667.\u001b[0m\n",
            "\u001b[32m[I 2021-10-10 15:12:49,986]\u001b[0m Trial 52 finished with value: 0.9733333333333333 and parameters: {'classifier': 'SVC', 'svc_c': 1.734992406091721}. Best is trial 36 with value: 0.9866666666666667.\u001b[0m\n",
            "\u001b[32m[I 2021-10-10 15:12:50,011]\u001b[0m Trial 53 finished with value: 0.94 and parameters: {'classifier': 'SVC', 'svc_c': 0.09232464168400033}. Best is trial 36 with value: 0.9866666666666667.\u001b[0m\n",
            "\u001b[32m[I 2021-10-10 15:12:50,039]\u001b[0m Trial 54 finished with value: 0.9666666666666667 and parameters: {'classifier': 'SVC', 'svc_c': 28.98060894951918}. Best is trial 36 with value: 0.9866666666666667.\u001b[0m\n",
            "\u001b[32m[I 2021-10-10 15:12:50,074]\u001b[0m Trial 55 finished with value: 0.32 and parameters: {'classifier': 'SVC', 'svc_c': 0.00017994306526553726}. Best is trial 36 with value: 0.9866666666666667.\u001b[0m\n",
            "\u001b[32m[I 2021-10-10 15:12:50,108]\u001b[0m Trial 56 finished with value: 0.96 and parameters: {'classifier': 'SVC', 'svc_c': 767.3409026319687}. Best is trial 36 with value: 0.9866666666666667.\u001b[0m\n",
            "\u001b[32m[I 2021-10-10 15:12:50,138]\u001b[0m Trial 57 finished with value: 0.96 and parameters: {'classifier': 'SVC', 'svc_c': 101373.49117469272}. Best is trial 36 with value: 0.9866666666666667.\u001b[0m\n",
            "\u001b[32m[I 2021-10-10 15:12:50,166]\u001b[0m Trial 58 finished with value: 0.9666666666666667 and parameters: {'classifier': 'SVC', 'svc_c': 1.6006301835612418}. Best is trial 36 with value: 0.9866666666666667.\u001b[0m\n",
            "\u001b[32m[I 2021-10-10 15:12:50,194]\u001b[0m Trial 59 finished with value: 0.32 and parameters: {'classifier': 'SVC', 'svc_c': 0.014728613360535154}. Best is trial 36 with value: 0.9866666666666667.\u001b[0m\n",
            "\u001b[32m[I 2021-10-10 15:12:50,291]\u001b[0m Trial 60 finished with value: 0.9466666666666667 and parameters: {'classifier': 'RandomForest', 'n_estimators': 16, 'max_depth': 10.560481830817979}. Best is trial 36 with value: 0.9866666666666667.\u001b[0m\n",
            "\u001b[32m[I 2021-10-10 15:12:50,317]\u001b[0m Trial 61 finished with value: 0.98 and parameters: {'classifier': 'SVC', 'svc_c': 10.124285401258106}. Best is trial 36 with value: 0.9866666666666667.\u001b[0m\n",
            "\u001b[32m[I 2021-10-10 15:12:50,348]\u001b[0m Trial 62 finished with value: 0.9866666666666667 and parameters: {'classifier': 'SVC', 'svc_c': 4.120782824074342}. Best is trial 36 with value: 0.9866666666666667.\u001b[0m\n",
            "\u001b[32m[I 2021-10-10 15:12:50,370]\u001b[0m Trial 63 finished with value: 0.96 and parameters: {'classifier': 'SVC', 'svc_c': 94.51202956525209}. Best is trial 36 with value: 0.9866666666666667.\u001b[0m\n",
            "\u001b[32m[I 2021-10-10 15:12:50,392]\u001b[0m Trial 64 finished with value: 0.96 and parameters: {'classifier': 'SVC', 'svc_c': 0.24379840338841072}. Best is trial 36 with value: 0.9866666666666667.\u001b[0m\n",
            "\u001b[32m[I 2021-10-10 15:12:50,414]\u001b[0m Trial 65 finished with value: 0.9733333333333333 and parameters: {'classifier': 'SVC', 'svc_c': 1.8070472345227393}. Best is trial 36 with value: 0.9866666666666667.\u001b[0m\n",
            "\u001b[32m[I 2021-10-10 15:12:50,442]\u001b[0m Trial 66 finished with value: 0.9666666666666667 and parameters: {'classifier': 'SVC', 'svc_c': 26.14286668051707}. Best is trial 36 with value: 0.9866666666666667.\u001b[0m\n",
            "\u001b[32m[I 2021-10-10 15:12:50,467]\u001b[0m Trial 67 finished with value: 0.9466666666666667 and parameters: {'classifier': 'SVC', 'svc_c': 302.4241405375784}. Best is trial 36 with value: 0.9866666666666667.\u001b[0m\n",
            "\u001b[32m[I 2021-10-10 15:12:50,492]\u001b[0m Trial 68 finished with value: 0.32 and parameters: {'classifier': 'SVC', 'svc_c': 0.0013955349637659225}. Best is trial 36 with value: 0.9866666666666667.\u001b[0m\n",
            "\u001b[32m[I 2021-10-10 15:12:50,518]\u001b[0m Trial 69 finished with value: 0.96 and parameters: {'classifier': 'SVC', 'svc_c': 0.3393765293569063}. Best is trial 36 with value: 0.9866666666666667.\u001b[0m\n",
            "\u001b[32m[I 2021-10-10 15:12:50,543]\u001b[0m Trial 70 finished with value: 0.32 and parameters: {'classifier': 'SVC', 'svc_c': 7.256564227308664e-08}. Best is trial 36 with value: 0.9866666666666667.\u001b[0m\n",
            "\u001b[32m[I 2021-10-10 15:12:50,565]\u001b[0m Trial 71 finished with value: 0.9733333333333333 and parameters: {'classifier': 'SVC', 'svc_c': 3.1584517283512485}. Best is trial 36 with value: 0.9866666666666667.\u001b[0m\n",
            "\u001b[32m[I 2021-10-10 15:12:50,586]\u001b[0m Trial 72 finished with value: 0.9866666666666667 and parameters: {'classifier': 'SVC', 'svc_c': 4.536678270868677}. Best is trial 36 with value: 0.9866666666666667.\u001b[0m\n",
            "\u001b[32m[I 2021-10-10 15:12:50,607]\u001b[0m Trial 73 finished with value: 0.96 and parameters: {'classifier': 'SVC', 'svc_c': 47.690476005495974}. Best is trial 36 with value: 0.9866666666666667.\u001b[0m\n",
            "\u001b[32m[I 2021-10-10 15:12:50,631]\u001b[0m Trial 74 finished with value: 0.9733333333333333 and parameters: {'classifier': 'SVC', 'svc_c': 14.891939048324614}. Best is trial 36 with value: 0.9866666666666667.\u001b[0m\n",
            "\u001b[32m[I 2021-10-10 15:12:50,664]\u001b[0m Trial 75 finished with value: 0.9666666666666667 and parameters: {'classifier': 'SVC', 'svc_c': 0.8926712692333478}. Best is trial 36 with value: 0.9866666666666667.\u001b[0m\n",
            "\u001b[32m[I 2021-10-10 15:12:50,694]\u001b[0m Trial 76 finished with value: 0.8933333333333332 and parameters: {'classifier': 'SVC', 'svc_c': 0.04645105834336302}. Best is trial 36 with value: 0.9866666666666667.\u001b[0m\n",
            "\u001b[32m[I 2021-10-10 15:12:50,751]\u001b[0m Trial 77 finished with value: 0.9666666666666667 and parameters: {'classifier': 'RandomForest', 'n_estimators': 7, 'max_depth': 2.2897323690086133}. Best is trial 36 with value: 0.9866666666666667.\u001b[0m\n",
            "\u001b[32m[I 2021-10-10 15:12:50,777]\u001b[0m Trial 78 finished with value: 0.9866666666666667 and parameters: {'classifier': 'SVC', 'svc_c': 4.663763293987114}. Best is trial 36 with value: 0.9866666666666667.\u001b[0m\n",
            "\u001b[32m[I 2021-10-10 15:12:50,797]\u001b[0m Trial 79 finished with value: 0.9666666666666667 and parameters: {'classifier': 'SVC', 'svc_c': 0.4243960633125469}. Best is trial 36 with value: 0.9866666666666667.\u001b[0m\n",
            "\u001b[32m[I 2021-10-10 15:12:50,823]\u001b[0m Trial 80 finished with value: 0.32 and parameters: {'classifier': 'SVC', 'svc_c': 0.010331157602707535}. Best is trial 36 with value: 0.9866666666666667.\u001b[0m\n",
            "\u001b[32m[I 2021-10-10 15:12:50,849]\u001b[0m Trial 81 finished with value: 0.98 and parameters: {'classifier': 'SVC', 'svc_c': 6.297047219014061}. Best is trial 36 with value: 0.9866666666666667.\u001b[0m\n",
            "\u001b[32m[I 2021-10-10 15:12:50,871]\u001b[0m Trial 82 finished with value: 0.96 and parameters: {'classifier': 'SVC', 'svc_c': 98.43067596606328}. Best is trial 36 with value: 0.9866666666666667.\u001b[0m\n",
            "\u001b[32m[I 2021-10-10 15:12:50,894]\u001b[0m Trial 83 finished with value: 0.98 and parameters: {'classifier': 'SVC', 'svc_c': 7.565985618716933}. Best is trial 36 with value: 0.9866666666666667.\u001b[0m\n",
            "\u001b[32m[I 2021-10-10 15:12:50,922]\u001b[0m Trial 84 finished with value: 0.96 and parameters: {'classifier': 'SVC', 'svc_c': 632.2799036310512}. Best is trial 36 with value: 0.9866666666666667.\u001b[0m\n",
            "\u001b[32m[I 2021-10-10 15:12:50,947]\u001b[0m Trial 85 finished with value: 0.96 and parameters: {'classifier': 'SVC', 'svc_c': 0.18686233936247837}. Best is trial 36 with value: 0.9866666666666667.\u001b[0m\n",
            "\u001b[32m[I 2021-10-10 15:12:50,970]\u001b[0m Trial 86 finished with value: 0.9733333333333333 and parameters: {'classifier': 'SVC', 'svc_c': 14.459653759228551}. Best is trial 36 with value: 0.9866666666666667.\u001b[0m\n",
            "\u001b[32m[I 2021-10-10 15:12:50,993]\u001b[0m Trial 87 finished with value: 0.9866666666666667 and parameters: {'classifier': 'SVC', 'svc_c': 4.088122297457342}. Best is trial 36 with value: 0.9866666666666667.\u001b[0m\n",
            "\u001b[32m[I 2021-10-10 15:12:51,019]\u001b[0m Trial 88 finished with value: 0.9866666666666667 and parameters: {'classifier': 'SVC', 'svc_c': 4.159460732382775}. Best is trial 36 with value: 0.9866666666666667.\u001b[0m\n",
            "\u001b[32m[I 2021-10-10 15:12:51,044]\u001b[0m Trial 89 finished with value: 0.9666666666666667 and parameters: {'classifier': 'SVC', 'svc_c': 0.7355022377519809}. Best is trial 36 with value: 0.9866666666666667.\u001b[0m\n",
            "\u001b[32m[I 2021-10-10 15:12:51,120]\u001b[0m Trial 90 finished with value: 0.9466666666666667 and parameters: {'classifier': 'RandomForest', 'n_estimators': 11, 'max_depth': 16.465107647660428}. Best is trial 36 with value: 0.9866666666666667.\u001b[0m\n",
            "\u001b[32m[I 2021-10-10 15:12:51,147]\u001b[0m Trial 91 finished with value: 0.96 and parameters: {'classifier': 'SVC', 'svc_c': 55.62710090896949}. Best is trial 36 with value: 0.9866666666666667.\u001b[0m\n",
            "\u001b[32m[I 2021-10-10 15:12:51,176]\u001b[0m Trial 92 finished with value: 0.9733333333333333 and parameters: {'classifier': 'SVC', 'svc_c': 2.3592350883034356}. Best is trial 36 with value: 0.9866666666666667.\u001b[0m\n",
            "\u001b[32m[I 2021-10-10 15:12:51,202]\u001b[0m Trial 93 finished with value: 0.9866666666666667 and parameters: {'classifier': 'SVC', 'svc_c': 3.8474154514471013}. Best is trial 36 with value: 0.9866666666666667.\u001b[0m\n",
            "\u001b[32m[I 2021-10-10 15:12:51,232]\u001b[0m Trial 94 finished with value: 0.94 and parameters: {'classifier': 'SVC', 'svc_c': 223.98280901495562}. Best is trial 36 with value: 0.9866666666666667.\u001b[0m\n",
            "\u001b[32m[I 2021-10-10 15:12:51,259]\u001b[0m Trial 95 finished with value: 0.8933333333333332 and parameters: {'classifier': 'SVC', 'svc_c': 0.04778925646568462}. Best is trial 36 with value: 0.9866666666666667.\u001b[0m\n",
            "\u001b[32m[I 2021-10-10 15:12:51,286]\u001b[0m Trial 96 finished with value: 0.9666666666666667 and parameters: {'classifier': 'SVC', 'svc_c': 0.9180651666516587}. Best is trial 36 with value: 0.9866666666666667.\u001b[0m\n",
            "\u001b[32m[I 2021-10-10 15:12:51,308]\u001b[0m Trial 97 finished with value: 0.96 and parameters: {'classifier': 'SVC', 'svc_c': 2400155365.661114}. Best is trial 36 with value: 0.9866666666666667.\u001b[0m\n",
            "\u001b[32m[I 2021-10-10 15:12:51,330]\u001b[0m Trial 98 finished with value: 0.9733333333333333 and parameters: {'classifier': 'SVC', 'svc_c': 3.153051402745402}. Best is trial 36 with value: 0.9866666666666667.\u001b[0m\n",
            "\u001b[32m[I 2021-10-10 15:12:51,354]\u001b[0m Trial 99 finished with value: 0.9533333333333333 and parameters: {'classifier': 'SVC', 'svc_c': 0.13275553239702065}. Best is trial 36 with value: 0.9866666666666667.\u001b[0m\n"
          ]
        },
        {
          "output_type": "stream",
          "name": "stdout",
          "text": [
            "Accuracy: 0.9866666666666667\n",
            "Best hyperparameters: {'classifier': 'SVC', 'svc_c': 3.7755978290060717}\n"
          ]
        }
      ]
    },
    {
      "cell_type": "markdown",
      "metadata": {
        "id": "MFPdlxNfaw1m"
      },
      "source": [
        "### Plotting the study\n",
        "\n",
        "Plotting the optimization history of the study."
      ]
    },
    {
      "cell_type": "code",
      "metadata": {
        "id": "IgtFgVsWaw1p",
        "outputId": "a713da94-a750-49d0-a90c-e52658ebdc2e",
        "colab": {
          "base_uri": "https://localhost:8080/",
          "height": 542
        }
      },
      "source": [
        "optuna.visualization.plot_optimization_history(study)"
      ],
      "execution_count": 6,
      "outputs": [
        {
          "output_type": "display_data",
          "data": {
            "text/html": [
              "<html>\n",
              "<head><meta charset=\"utf-8\" /></head>\n",
              "<body>\n",
              "    <div>\n",
              "            <script src=\"https://cdnjs.cloudflare.com/ajax/libs/mathjax/2.7.5/MathJax.js?config=TeX-AMS-MML_SVG\"></script><script type=\"text/javascript\">if (window.MathJax) {MathJax.Hub.Config({SVG: {font: \"STIX-Web\"}});}</script>\n",
              "                <script type=\"text/javascript\">window.PlotlyConfig = {MathJaxConfig: 'local'};</script>\n",
              "        <script src=\"https://cdn.plot.ly/plotly-latest.min.js\"></script>    \n",
              "            <div id=\"4a8dcb36-fa73-4c31-823a-4218f41c3413\" class=\"plotly-graph-div\" style=\"height:525px; width:100%;\"></div>\n",
              "            <script type=\"text/javascript\">\n",
              "                \n",
              "                    window.PLOTLYENV=window.PLOTLYENV || {};\n",
              "                    \n",
              "                if (document.getElementById(\"4a8dcb36-fa73-4c31-823a-4218f41c3413\")) {\n",
              "                    Plotly.newPlot(\n",
              "                        '4a8dcb36-fa73-4c31-823a-4218f41c3413',\n",
              "                        [{\"mode\": \"markers\", \"name\": \"Objective Value\", \"type\": \"scatter\", \"x\": [0, 1, 2, 3, 4, 5, 6, 7, 8, 9, 10, 11, 12, 13, 14, 15, 16, 17, 18, 19, 20, 21, 22, 23, 24, 25, 26, 27, 28, 29, 30, 31, 32, 33, 34, 35, 36, 37, 38, 39, 40, 41, 42, 43, 44, 45, 46, 47, 48, 49, 50, 51, 52, 53, 54, 55, 56, 57, 58, 59, 60, 61, 62, 63, 64, 65, 66, 67, 68, 69, 70, 71, 72, 73, 74, 75, 76, 77, 78, 79, 80, 81, 82, 83, 84, 85, 86, 87, 88, 89, 90, 91, 92, 93, 94, 95, 96, 97, 98, 99], \"y\": [0.96, 0.96, 0.9733333333333333, 0.32, 0.96, 0.7466666666666667, 0.9466666666666667, 0.96, 0.32, 0.96, 0.32, 0.96, 0.9466666666666667, 0.32, 0.96, 0.9466666666666667, 0.98, 0.32, 0.6666666666666666, 0.9666666666666667, 0.96, 0.96, 0.9666666666666667, 0.32, 0.9733333333333333, 0.96, 0.9666666666666667, 0.32, 0.96, 0.96, 0.9666666666666667, 0.98, 0.98, 0.96, 0.32, 0.9199999999999999, 0.9866666666666667, 0.9333333333333332, 0.98, 0.96, 0.9666666666666667, 0.98, 0.9466666666666667, 0.9733333333333333, 0.96, 0.94, 0.32, 0.9866666666666667, 0.96, 0.96, 0.96, 0.9866666666666667, 0.9733333333333333, 0.94, 0.9666666666666667, 0.32, 0.96, 0.96, 0.9666666666666667, 0.32, 0.9466666666666667, 0.98, 0.9866666666666667, 0.96, 0.96, 0.9733333333333333, 0.9666666666666667, 0.9466666666666667, 0.32, 0.96, 0.32, 0.9733333333333333, 0.9866666666666667, 0.96, 0.9733333333333333, 0.9666666666666667, 0.8933333333333332, 0.9666666666666667, 0.9866666666666667, 0.9666666666666667, 0.32, 0.98, 0.96, 0.98, 0.96, 0.96, 0.9733333333333333, 0.9866666666666667, 0.9866666666666667, 0.9666666666666667, 0.9466666666666667, 0.96, 0.9733333333333333, 0.9866666666666667, 0.94, 0.8933333333333332, 0.9666666666666667, 0.96, 0.9733333333333333, 0.9533333333333333]}, {\"name\": \"Best Value\", \"type\": \"scatter\", \"x\": [0, 1, 2, 3, 4, 5, 6, 7, 8, 9, 10, 11, 12, 13, 14, 15, 16, 17, 18, 19, 20, 21, 22, 23, 24, 25, 26, 27, 28, 29, 30, 31, 32, 33, 34, 35, 36, 37, 38, 39, 40, 41, 42, 43, 44, 45, 46, 47, 48, 49, 50, 51, 52, 53, 54, 55, 56, 57, 58, 59, 60, 61, 62, 63, 64, 65, 66, 67, 68, 69, 70, 71, 72, 73, 74, 75, 76, 77, 78, 79, 80, 81, 82, 83, 84, 85, 86, 87, 88, 89, 90, 91, 92, 93, 94, 95, 96, 97, 98, 99], \"y\": [0.96, 0.96, 0.9733333333333333, 0.9733333333333333, 0.9733333333333333, 0.9733333333333333, 0.9733333333333333, 0.9733333333333333, 0.9733333333333333, 0.9733333333333333, 0.9733333333333333, 0.9733333333333333, 0.9733333333333333, 0.9733333333333333, 0.9733333333333333, 0.9733333333333333, 0.98, 0.98, 0.98, 0.98, 0.98, 0.98, 0.98, 0.98, 0.98, 0.98, 0.98, 0.98, 0.98, 0.98, 0.98, 0.98, 0.98, 0.98, 0.98, 0.98, 0.9866666666666667, 0.9866666666666667, 0.9866666666666667, 0.9866666666666667, 0.9866666666666667, 0.9866666666666667, 0.9866666666666667, 0.9866666666666667, 0.9866666666666667, 0.9866666666666667, 0.9866666666666667, 0.9866666666666667, 0.9866666666666667, 0.9866666666666667, 0.9866666666666667, 0.9866666666666667, 0.9866666666666667, 0.9866666666666667, 0.9866666666666667, 0.9866666666666667, 0.9866666666666667, 0.9866666666666667, 0.9866666666666667, 0.9866666666666667, 0.9866666666666667, 0.9866666666666667, 0.9866666666666667, 0.9866666666666667, 0.9866666666666667, 0.9866666666666667, 0.9866666666666667, 0.9866666666666667, 0.9866666666666667, 0.9866666666666667, 0.9866666666666667, 0.9866666666666667, 0.9866666666666667, 0.9866666666666667, 0.9866666666666667, 0.9866666666666667, 0.9866666666666667, 0.9866666666666667, 0.9866666666666667, 0.9866666666666667, 0.9866666666666667, 0.9866666666666667, 0.9866666666666667, 0.9866666666666667, 0.9866666666666667, 0.9866666666666667, 0.9866666666666667, 0.9866666666666667, 0.9866666666666667, 0.9866666666666667, 0.9866666666666667, 0.9866666666666667, 0.9866666666666667, 0.9866666666666667, 0.9866666666666667, 0.9866666666666667, 0.9866666666666667, 0.9866666666666667, 0.9866666666666667, 0.9866666666666667]}],\n",
              "                        {\"template\": {\"data\": {\"bar\": [{\"error_x\": {\"color\": \"#2a3f5f\"}, \"error_y\": {\"color\": \"#2a3f5f\"}, \"marker\": {\"line\": {\"color\": \"#E5ECF6\", \"width\": 0.5}}, \"type\": \"bar\"}], \"barpolar\": [{\"marker\": {\"line\": {\"color\": \"#E5ECF6\", \"width\": 0.5}}, \"type\": \"barpolar\"}], \"carpet\": [{\"aaxis\": {\"endlinecolor\": \"#2a3f5f\", \"gridcolor\": \"white\", \"linecolor\": \"white\", \"minorgridcolor\": \"white\", \"startlinecolor\": \"#2a3f5f\"}, \"baxis\": {\"endlinecolor\": \"#2a3f5f\", \"gridcolor\": \"white\", \"linecolor\": \"white\", \"minorgridcolor\": \"white\", \"startlinecolor\": \"#2a3f5f\"}, \"type\": \"carpet\"}], \"choropleth\": [{\"colorbar\": {\"outlinewidth\": 0, \"ticks\": \"\"}, \"type\": \"choropleth\"}], \"contour\": [{\"colorbar\": {\"outlinewidth\": 0, \"ticks\": \"\"}, \"colorscale\": [[0.0, \"#0d0887\"], [0.1111111111111111, \"#46039f\"], [0.2222222222222222, \"#7201a8\"], [0.3333333333333333, \"#9c179e\"], [0.4444444444444444, \"#bd3786\"], [0.5555555555555556, \"#d8576b\"], [0.6666666666666666, \"#ed7953\"], [0.7777777777777778, \"#fb9f3a\"], [0.8888888888888888, \"#fdca26\"], [1.0, \"#f0f921\"]], \"type\": \"contour\"}], \"contourcarpet\": [{\"colorbar\": {\"outlinewidth\": 0, \"ticks\": \"\"}, \"type\": \"contourcarpet\"}], \"heatmap\": [{\"colorbar\": {\"outlinewidth\": 0, \"ticks\": \"\"}, \"colorscale\": [[0.0, \"#0d0887\"], [0.1111111111111111, \"#46039f\"], [0.2222222222222222, \"#7201a8\"], [0.3333333333333333, \"#9c179e\"], [0.4444444444444444, \"#bd3786\"], [0.5555555555555556, \"#d8576b\"], [0.6666666666666666, \"#ed7953\"], [0.7777777777777778, \"#fb9f3a\"], [0.8888888888888888, \"#fdca26\"], [1.0, \"#f0f921\"]], \"type\": \"heatmap\"}], \"heatmapgl\": [{\"colorbar\": {\"outlinewidth\": 0, \"ticks\": \"\"}, \"colorscale\": [[0.0, \"#0d0887\"], [0.1111111111111111, \"#46039f\"], [0.2222222222222222, \"#7201a8\"], [0.3333333333333333, \"#9c179e\"], [0.4444444444444444, \"#bd3786\"], [0.5555555555555556, \"#d8576b\"], [0.6666666666666666, \"#ed7953\"], [0.7777777777777778, \"#fb9f3a\"], [0.8888888888888888, \"#fdca26\"], [1.0, \"#f0f921\"]], \"type\": \"heatmapgl\"}], \"histogram\": [{\"marker\": {\"colorbar\": {\"outlinewidth\": 0, \"ticks\": \"\"}}, \"type\": \"histogram\"}], \"histogram2d\": [{\"colorbar\": {\"outlinewidth\": 0, \"ticks\": \"\"}, \"colorscale\": [[0.0, \"#0d0887\"], [0.1111111111111111, \"#46039f\"], [0.2222222222222222, \"#7201a8\"], [0.3333333333333333, \"#9c179e\"], [0.4444444444444444, \"#bd3786\"], [0.5555555555555556, \"#d8576b\"], [0.6666666666666666, \"#ed7953\"], [0.7777777777777778, \"#fb9f3a\"], [0.8888888888888888, \"#fdca26\"], [1.0, \"#f0f921\"]], \"type\": \"histogram2d\"}], \"histogram2dcontour\": [{\"colorbar\": {\"outlinewidth\": 0, \"ticks\": \"\"}, \"colorscale\": [[0.0, \"#0d0887\"], [0.1111111111111111, \"#46039f\"], [0.2222222222222222, \"#7201a8\"], [0.3333333333333333, \"#9c179e\"], [0.4444444444444444, \"#bd3786\"], [0.5555555555555556, \"#d8576b\"], [0.6666666666666666, \"#ed7953\"], [0.7777777777777778, \"#fb9f3a\"], [0.8888888888888888, \"#fdca26\"], [1.0, \"#f0f921\"]], \"type\": \"histogram2dcontour\"}], \"mesh3d\": [{\"colorbar\": {\"outlinewidth\": 0, \"ticks\": \"\"}, \"type\": \"mesh3d\"}], \"parcoords\": [{\"line\": {\"colorbar\": {\"outlinewidth\": 0, \"ticks\": \"\"}}, \"type\": \"parcoords\"}], \"pie\": [{\"automargin\": true, \"type\": \"pie\"}], \"scatter\": [{\"marker\": {\"colorbar\": {\"outlinewidth\": 0, \"ticks\": \"\"}}, \"type\": \"scatter\"}], \"scatter3d\": [{\"line\": {\"colorbar\": {\"outlinewidth\": 0, \"ticks\": \"\"}}, \"marker\": {\"colorbar\": {\"outlinewidth\": 0, \"ticks\": \"\"}}, \"type\": \"scatter3d\"}], \"scattercarpet\": [{\"marker\": {\"colorbar\": {\"outlinewidth\": 0, \"ticks\": \"\"}}, \"type\": \"scattercarpet\"}], \"scattergeo\": [{\"marker\": {\"colorbar\": {\"outlinewidth\": 0, \"ticks\": \"\"}}, \"type\": \"scattergeo\"}], \"scattergl\": [{\"marker\": {\"colorbar\": {\"outlinewidth\": 0, \"ticks\": \"\"}}, \"type\": \"scattergl\"}], \"scattermapbox\": [{\"marker\": {\"colorbar\": {\"outlinewidth\": 0, \"ticks\": \"\"}}, \"type\": \"scattermapbox\"}], \"scatterpolar\": [{\"marker\": {\"colorbar\": {\"outlinewidth\": 0, \"ticks\": \"\"}}, \"type\": \"scatterpolar\"}], \"scatterpolargl\": [{\"marker\": {\"colorbar\": {\"outlinewidth\": 0, \"ticks\": \"\"}}, \"type\": \"scatterpolargl\"}], \"scatterternary\": [{\"marker\": {\"colorbar\": {\"outlinewidth\": 0, \"ticks\": \"\"}}, \"type\": \"scatterternary\"}], \"surface\": [{\"colorbar\": {\"outlinewidth\": 0, \"ticks\": \"\"}, \"colorscale\": [[0.0, \"#0d0887\"], [0.1111111111111111, \"#46039f\"], [0.2222222222222222, \"#7201a8\"], [0.3333333333333333, \"#9c179e\"], [0.4444444444444444, \"#bd3786\"], [0.5555555555555556, \"#d8576b\"], [0.6666666666666666, \"#ed7953\"], [0.7777777777777778, \"#fb9f3a\"], [0.8888888888888888, \"#fdca26\"], [1.0, \"#f0f921\"]], \"type\": \"surface\"}], \"table\": [{\"cells\": {\"fill\": {\"color\": \"#EBF0F8\"}, \"line\": {\"color\": \"white\"}}, \"header\": {\"fill\": {\"color\": \"#C8D4E3\"}, \"line\": {\"color\": \"white\"}}, \"type\": \"table\"}]}, \"layout\": {\"annotationdefaults\": {\"arrowcolor\": \"#2a3f5f\", \"arrowhead\": 0, \"arrowwidth\": 1}, \"coloraxis\": {\"colorbar\": {\"outlinewidth\": 0, \"ticks\": \"\"}}, \"colorscale\": {\"diverging\": [[0, \"#8e0152\"], [0.1, \"#c51b7d\"], [0.2, \"#de77ae\"], [0.3, \"#f1b6da\"], [0.4, \"#fde0ef\"], [0.5, \"#f7f7f7\"], [0.6, \"#e6f5d0\"], [0.7, \"#b8e186\"], [0.8, \"#7fbc41\"], [0.9, \"#4d9221\"], [1, \"#276419\"]], \"sequential\": [[0.0, \"#0d0887\"], [0.1111111111111111, \"#46039f\"], [0.2222222222222222, \"#7201a8\"], [0.3333333333333333, \"#9c179e\"], [0.4444444444444444, \"#bd3786\"], [0.5555555555555556, \"#d8576b\"], [0.6666666666666666, \"#ed7953\"], [0.7777777777777778, \"#fb9f3a\"], [0.8888888888888888, \"#fdca26\"], [1.0, \"#f0f921\"]], \"sequentialminus\": [[0.0, \"#0d0887\"], [0.1111111111111111, \"#46039f\"], [0.2222222222222222, \"#7201a8\"], [0.3333333333333333, \"#9c179e\"], [0.4444444444444444, \"#bd3786\"], [0.5555555555555556, \"#d8576b\"], [0.6666666666666666, \"#ed7953\"], [0.7777777777777778, \"#fb9f3a\"], [0.8888888888888888, \"#fdca26\"], [1.0, \"#f0f921\"]]}, \"colorway\": [\"#636efa\", \"#EF553B\", \"#00cc96\", \"#ab63fa\", \"#FFA15A\", \"#19d3f3\", \"#FF6692\", \"#B6E880\", \"#FF97FF\", \"#FECB52\"], \"font\": {\"color\": \"#2a3f5f\"}, \"geo\": {\"bgcolor\": \"white\", \"lakecolor\": \"white\", \"landcolor\": \"#E5ECF6\", \"showlakes\": true, \"showland\": true, \"subunitcolor\": \"white\"}, \"hoverlabel\": {\"align\": \"left\"}, \"hovermode\": \"closest\", \"mapbox\": {\"style\": \"light\"}, \"paper_bgcolor\": \"white\", \"plot_bgcolor\": \"#E5ECF6\", \"polar\": {\"angularaxis\": {\"gridcolor\": \"white\", \"linecolor\": \"white\", \"ticks\": \"\"}, \"bgcolor\": \"#E5ECF6\", \"radialaxis\": {\"gridcolor\": \"white\", \"linecolor\": \"white\", \"ticks\": \"\"}}, \"scene\": {\"xaxis\": {\"backgroundcolor\": \"#E5ECF6\", \"gridcolor\": \"white\", \"gridwidth\": 2, \"linecolor\": \"white\", \"showbackground\": true, \"ticks\": \"\", \"zerolinecolor\": \"white\"}, \"yaxis\": {\"backgroundcolor\": \"#E5ECF6\", \"gridcolor\": \"white\", \"gridwidth\": 2, \"linecolor\": \"white\", \"showbackground\": true, \"ticks\": \"\", \"zerolinecolor\": \"white\"}, \"zaxis\": {\"backgroundcolor\": \"#E5ECF6\", \"gridcolor\": \"white\", \"gridwidth\": 2, \"linecolor\": \"white\", \"showbackground\": true, \"ticks\": \"\", \"zerolinecolor\": \"white\"}}, \"shapedefaults\": {\"line\": {\"color\": \"#2a3f5f\"}}, \"ternary\": {\"aaxis\": {\"gridcolor\": \"white\", \"linecolor\": \"white\", \"ticks\": \"\"}, \"baxis\": {\"gridcolor\": \"white\", \"linecolor\": \"white\", \"ticks\": \"\"}, \"bgcolor\": \"#E5ECF6\", \"caxis\": {\"gridcolor\": \"white\", \"linecolor\": \"white\", \"ticks\": \"\"}}, \"title\": {\"x\": 0.05}, \"xaxis\": {\"automargin\": true, \"gridcolor\": \"white\", \"linecolor\": \"white\", \"ticks\": \"\", \"title\": {\"standoff\": 15}, \"zerolinecolor\": \"white\", \"zerolinewidth\": 2}, \"yaxis\": {\"automargin\": true, \"gridcolor\": \"white\", \"linecolor\": \"white\", \"ticks\": \"\", \"title\": {\"standoff\": 15}, \"zerolinecolor\": \"white\", \"zerolinewidth\": 2}}}, \"title\": {\"text\": \"Optimization History Plot\"}, \"xaxis\": {\"title\": {\"text\": \"#Trials\"}}, \"yaxis\": {\"title\": {\"text\": \"Objective Value\"}}},\n",
              "                        {\"responsive\": true}\n",
              "                    ).then(function(){\n",
              "                            \n",
              "var gd = document.getElementById('4a8dcb36-fa73-4c31-823a-4218f41c3413');\n",
              "var x = new MutationObserver(function (mutations, observer) {{\n",
              "        var display = window.getComputedStyle(gd).display;\n",
              "        if (!display || display === 'none') {{\n",
              "            console.log([gd, 'removed!']);\n",
              "            Plotly.purge(gd);\n",
              "            observer.disconnect();\n",
              "        }}\n",
              "}});\n",
              "\n",
              "// Listen for the removal of the full notebook cells\n",
              "var notebookContainer = gd.closest('#notebook-container');\n",
              "if (notebookContainer) {{\n",
              "    x.observe(notebookContainer, {childList: true});\n",
              "}}\n",
              "\n",
              "// Listen for the clearing of the current output cell\n",
              "var outputEl = gd.closest('.output');\n",
              "if (outputEl) {{\n",
              "    x.observe(outputEl, {childList: true});\n",
              "}}\n",
              "\n",
              "                        })\n",
              "                };\n",
              "                \n",
              "            </script>\n",
              "        </div>\n",
              "</body>\n",
              "</html>"
            ]
          },
          "metadata": {}
        }
      ]
    },
    {
      "cell_type": "markdown",
      "metadata": {
        "id": "x3D_Sh4Yaw1p"
      },
      "source": [
        "Plotting the accuracies for each hyperparameter for each trial."
      ]
    },
    {
      "cell_type": "code",
      "metadata": {
        "id": "CjwXWnavaw1q",
        "outputId": "bb22baab-9f74-45cc-d9c2-a96d35517881",
        "colab": {
          "base_uri": "https://localhost:8080/",
          "height": 542
        }
      },
      "source": [
        "optuna.visualization.plot_slice(study)"
      ],
      "execution_count": 7,
      "outputs": [
        {
          "output_type": "display_data",
          "data": {
            "text/html": [
              "<html>\n",
              "<head><meta charset=\"utf-8\" /></head>\n",
              "<body>\n",
              "    <div>\n",
              "            <script src=\"https://cdnjs.cloudflare.com/ajax/libs/mathjax/2.7.5/MathJax.js?config=TeX-AMS-MML_SVG\"></script><script type=\"text/javascript\">if (window.MathJax) {MathJax.Hub.Config({SVG: {font: \"STIX-Web\"}});}</script>\n",
              "                <script type=\"text/javascript\">window.PlotlyConfig = {MathJaxConfig: 'local'};</script>\n",
              "        <script src=\"https://cdn.plot.ly/plotly-latest.min.js\"></script>    \n",
              "            <div id=\"f5016b43-e541-412f-a1e5-4d0a2ca91ded\" class=\"plotly-graph-div\" style=\"height:525px; width:1200px;\"></div>\n",
              "            <script type=\"text/javascript\">\n",
              "                \n",
              "                    window.PLOTLYENV=window.PLOTLYENV || {};\n",
              "                    \n",
              "                if (document.getElementById(\"f5016b43-e541-412f-a1e5-4d0a2ca91ded\")) {\n",
              "                    Plotly.newPlot(\n",
              "                        'f5016b43-e541-412f-a1e5-4d0a2ca91ded',\n",
              "                        [{\"marker\": {\"color\": [0, 1, 2, 3, 4, 5, 6, 7, 8, 9, 10, 11, 12, 13, 14, 15, 16, 17, 18, 19, 20, 21, 22, 23, 24, 25, 26, 27, 28, 29, 30, 31, 32, 33, 34, 35, 36, 37, 38, 39, 40, 41, 42, 43, 44, 45, 46, 47, 48, 49, 50, 51, 52, 53, 54, 55, 56, 57, 58, 59, 60, 61, 62, 63, 64, 65, 66, 67, 68, 69, 70, 71, 72, 73, 74, 75, 76, 77, 78, 79, 80, 81, 82, 83, 84, 85, 86, 87, 88, 89, 90, 91, 92, 93, 94, 95, 96, 97, 98, 99], \"colorbar\": {\"title\": {\"text\": \"#Trials\"}, \"x\": 1.0, \"xpad\": 40}, \"colorscale\": [[0.0, \"rgb(247,251,255)\"], [0.125, \"rgb(222,235,247)\"], [0.25, \"rgb(198,219,239)\"], [0.375, \"rgb(158,202,225)\"], [0.5, \"rgb(107,174,214)\"], [0.625, \"rgb(66,146,198)\"], [0.75, \"rgb(33,113,181)\"], [0.875, \"rgb(8,81,156)\"], [1.0, \"rgb(8,48,107)\"]], \"line\": {\"color\": \"Grey\", \"width\": 0.5}, \"showscale\": true}, \"mode\": \"markers\", \"showlegend\": false, \"type\": \"scatter\", \"x\": [\"SVC\", \"SVC\", \"SVC\", \"SVC\", \"RandomForest\", \"SVC\", \"RandomForest\", \"RandomForest\", \"SVC\", \"SVC\", \"SVC\", \"SVC\", \"SVC\", \"SVC\", \"SVC\", \"RandomForest\", \"SVC\", \"SVC\", \"RandomForest\", \"SVC\", \"SVC\", \"SVC\", \"SVC\", \"SVC\", \"SVC\", \"SVC\", \"RandomForest\", \"SVC\", \"SVC\", \"SVC\", \"SVC\", \"SVC\", \"SVC\", \"SVC\", \"SVC\", \"SVC\", \"SVC\", \"RandomForest\", \"SVC\", \"SVC\", \"RandomForest\", \"SVC\", \"SVC\", \"SVC\", \"SVC\", \"SVC\", \"SVC\", \"SVC\", \"SVC\", \"SVC\", \"RandomForest\", \"SVC\", \"SVC\", \"SVC\", \"SVC\", \"SVC\", \"SVC\", \"SVC\", \"SVC\", \"SVC\", \"RandomForest\", \"SVC\", \"SVC\", \"SVC\", \"SVC\", \"SVC\", \"SVC\", \"SVC\", \"SVC\", \"SVC\", \"SVC\", \"SVC\", \"SVC\", \"SVC\", \"SVC\", \"SVC\", \"SVC\", \"RandomForest\", \"SVC\", \"SVC\", \"SVC\", \"SVC\", \"SVC\", \"SVC\", \"SVC\", \"SVC\", \"SVC\", \"SVC\", \"SVC\", \"SVC\", \"RandomForest\", \"SVC\", \"SVC\", \"SVC\", \"SVC\", \"SVC\", \"SVC\", \"SVC\", \"SVC\", \"SVC\"], \"xaxis\": \"x\", \"y\": [0.96, 0.96, 0.9733333333333333, 0.32, 0.96, 0.7466666666666667, 0.9466666666666667, 0.96, 0.32, 0.96, 0.32, 0.96, 0.9466666666666667, 0.32, 0.96, 0.9466666666666667, 0.98, 0.32, 0.6666666666666666, 0.9666666666666667, 0.96, 0.96, 0.9666666666666667, 0.32, 0.9733333333333333, 0.96, 0.9666666666666667, 0.32, 0.96, 0.96, 0.9666666666666667, 0.98, 0.98, 0.96, 0.32, 0.9199999999999999, 0.9866666666666667, 0.9333333333333332, 0.98, 0.96, 0.9666666666666667, 0.98, 0.9466666666666667, 0.9733333333333333, 0.96, 0.94, 0.32, 0.9866666666666667, 0.96, 0.96, 0.96, 0.9866666666666667, 0.9733333333333333, 0.94, 0.9666666666666667, 0.32, 0.96, 0.96, 0.9666666666666667, 0.32, 0.9466666666666667, 0.98, 0.9866666666666667, 0.96, 0.96, 0.9733333333333333, 0.9666666666666667, 0.9466666666666667, 0.32, 0.96, 0.32, 0.9733333333333333, 0.9866666666666667, 0.96, 0.9733333333333333, 0.9666666666666667, 0.8933333333333332, 0.9666666666666667, 0.9866666666666667, 0.9666666666666667, 0.32, 0.98, 0.96, 0.98, 0.96, 0.96, 0.9733333333333333, 0.9866666666666667, 0.9866666666666667, 0.9666666666666667, 0.9466666666666667, 0.96, 0.9733333333333333, 0.9866666666666667, 0.94, 0.8933333333333332, 0.9666666666666667, 0.96, 0.9733333333333333, 0.9533333333333333], \"yaxis\": \"y\"}, {\"marker\": {\"color\": [4, 6, 7, 15, 18, 26, 37, 40, 50, 60, 77, 90], \"colorbar\": {\"title\": {\"text\": \"#Trials\"}, \"x\": 1.0, \"xpad\": 40}, \"colorscale\": [[0.0, \"rgb(247,251,255)\"], [0.125, \"rgb(222,235,247)\"], [0.25, \"rgb(198,219,239)\"], [0.375, \"rgb(158,202,225)\"], [0.5, \"rgb(107,174,214)\"], [0.625, \"rgb(66,146,198)\"], [0.75, \"rgb(33,113,181)\"], [0.875, \"rgb(8,81,156)\"], [1.0, \"rgb(8,48,107)\"]], \"line\": {\"color\": \"Grey\", \"width\": 0.5}, \"showscale\": false}, \"mode\": \"markers\", \"showlegend\": false, \"type\": \"scatter\", \"x\": [15.47457983139648, 5.119967264940351, 9.846697001079479, 1.0692543590891082, 1.0363995018128809, 30.487615486170736, 3.6255531843442057, 2.3461859901578968, 29.115276886334076, 10.560481830817979, 2.2897323690086133, 16.465107647660428], \"xaxis\": \"x2\", \"y\": [0.96, 0.9466666666666667, 0.96, 0.9466666666666667, 0.6666666666666666, 0.9666666666666667, 0.9333333333333332, 0.9666666666666667, 0.96, 0.9466666666666667, 0.9666666666666667, 0.9466666666666667], \"yaxis\": \"y2\"}, {\"marker\": {\"color\": [4, 6, 7, 15, 18, 26, 37, 40, 50, 60, 77, 90], \"colorbar\": {\"title\": {\"text\": \"#Trials\"}, \"x\": 1.0, \"xpad\": 40}, \"colorscale\": [[0.0, \"rgb(247,251,255)\"], [0.125, \"rgb(222,235,247)\"], [0.25, \"rgb(198,219,239)\"], [0.375, \"rgb(158,202,225)\"], [0.5, \"rgb(107,174,214)\"], [0.625, \"rgb(66,146,198)\"], [0.75, \"rgb(33,113,181)\"], [0.875, \"rgb(8,81,156)\"], [1.0, \"rgb(8,48,107)\"]], \"line\": {\"color\": \"Grey\", \"width\": 0.5}, \"showscale\": false}, \"mode\": \"markers\", \"showlegend\": false, \"type\": \"scatter\", \"x\": [7, 11, 14, 20, 2, 19, 2, 14, 7, 16, 7, 11], \"xaxis\": \"x3\", \"y\": [0.96, 0.9466666666666667, 0.96, 0.9466666666666667, 0.6666666666666666, 0.9666666666666667, 0.9333333333333332, 0.9666666666666667, 0.96, 0.9466666666666667, 0.9666666666666667, 0.9466666666666667], \"yaxis\": \"y3\"}, {\"marker\": {\"color\": [0, 1, 2, 3, 5, 8, 9, 10, 11, 12, 13, 14, 16, 17, 19, 20, 21, 22, 23, 24, 25, 27, 28, 29, 30, 31, 32, 33, 34, 35, 36, 38, 39, 41, 42, 43, 44, 45, 46, 47, 48, 49, 51, 52, 53, 54, 55, 56, 57, 58, 59, 61, 62, 63, 64, 65, 66, 67, 68, 69, 70, 71, 72, 73, 74, 75, 76, 78, 79, 80, 81, 82, 83, 84, 85, 86, 87, 88, 89, 91, 92, 93, 94, 95, 96, 97, 98, 99], \"colorbar\": {\"title\": {\"text\": \"#Trials\"}, \"x\": 1.0, \"xpad\": 40}, \"colorscale\": [[0.0, \"rgb(247,251,255)\"], [0.125, \"rgb(222,235,247)\"], [0.25, \"rgb(198,219,239)\"], [0.375, \"rgb(158,202,225)\"], [0.5, \"rgb(107,174,214)\"], [0.625, \"rgb(66,146,198)\"], [0.75, \"rgb(33,113,181)\"], [0.875, \"rgb(8,81,156)\"], [1.0, \"rgb(8,48,107)\"]], \"line\": {\"color\": \"Grey\", \"width\": 0.5}, \"showscale\": false}, \"mode\": \"markers\", \"showlegend\": false, \"type\": \"scatter\", \"x\": [134.8572136371431, 2550490167.085934, 0.9868829239262082, 1.9918124372157155e-09, 0.023613145413059155, 1.29094457702716e-10, 167870.70722196062, 0.000663688827604013, 139.93728330517197, 338.1082280998289, 6.707796872216583e-05, 1008172.7555789978, 5.800081178924859, 8.923148792278298e-07, 0.4944360758974502, 19014.78432504853, 0.2935912314946028, 0.5787729914917905, 0.00215021915311583, 12.263967659603646, 51.284721954997224, 2.3323572910067464e-05, 4217828.9289502865, 16010.040106656093, 20.314254848647856, 8.679005517644697, 7.387185664791078, 2516.8588815361286, 0.004798320079091323, 0.057967993472170784, 3.7755978290060717, 5.190308651337568, 68149441.88966025, 6.673213285867518, 326.21816100818694, 1.9690411280890634, 1543.8386928622783, 0.09856132230756688, 0.015991677889121553, 4.216536737244284, 5355.335459989226, 135.67119700926804, 4.645579708591118, 1.734992406091721, 0.09232464168400033, 28.98060894951918, 0.00017994306526553726, 767.3409026319687, 101373.49117469272, 1.6006301835612418, 0.014728613360535154, 10.124285401258106, 4.120782824074342, 94.51202956525209, 0.24379840338841072, 1.8070472345227393, 26.14286668051707, 302.4241405375784, 0.0013955349637659225, 0.3393765293569063, 7.256564227308664e-08, 3.1584517283512485, 4.536678270868677, 47.690476005495974, 14.891939048324614, 0.8926712692333478, 0.04645105834336302, 4.663763293987114, 0.4243960633125469, 0.010331157602707535, 6.297047219014061, 98.43067596606328, 7.565985618716933, 632.2799036310512, 0.18686233936247837, 14.459653759228551, 4.088122297457342, 4.159460732382775, 0.7355022377519809, 55.62710090896949, 2.3592350883034356, 3.8474154514471013, 223.98280901495562, 0.04778925646568462, 0.9180651666516587, 2400155365.661114, 3.153051402745402, 0.13275553239702065], \"xaxis\": \"x4\", \"y\": [0.96, 0.96, 0.9733333333333333, 0.32, 0.7466666666666667, 0.32, 0.96, 0.32, 0.96, 0.9466666666666667, 0.32, 0.96, 0.98, 0.32, 0.9666666666666667, 0.96, 0.96, 0.9666666666666667, 0.32, 0.9733333333333333, 0.96, 0.32, 0.96, 0.96, 0.9666666666666667, 0.98, 0.98, 0.96, 0.32, 0.9199999999999999, 0.9866666666666667, 0.98, 0.96, 0.98, 0.9466666666666667, 0.9733333333333333, 0.96, 0.94, 0.32, 0.9866666666666667, 0.96, 0.96, 0.9866666666666667, 0.9733333333333333, 0.94, 0.9666666666666667, 0.32, 0.96, 0.96, 0.9666666666666667, 0.32, 0.98, 0.9866666666666667, 0.96, 0.96, 0.9733333333333333, 0.9666666666666667, 0.9466666666666667, 0.32, 0.96, 0.32, 0.9733333333333333, 0.9866666666666667, 0.96, 0.9733333333333333, 0.9666666666666667, 0.8933333333333332, 0.9866666666666667, 0.9666666666666667, 0.32, 0.98, 0.96, 0.98, 0.96, 0.96, 0.9733333333333333, 0.9866666666666667, 0.9866666666666667, 0.9666666666666667, 0.96, 0.9733333333333333, 0.9866666666666667, 0.94, 0.8933333333333332, 0.9666666666666667, 0.96, 0.9733333333333333, 0.9533333333333333], \"yaxis\": \"y4\"}],\n",
              "                        {\"template\": {\"data\": {\"bar\": [{\"error_x\": {\"color\": \"#2a3f5f\"}, \"error_y\": {\"color\": \"#2a3f5f\"}, \"marker\": {\"line\": {\"color\": \"#E5ECF6\", \"width\": 0.5}}, \"type\": \"bar\"}], \"barpolar\": [{\"marker\": {\"line\": {\"color\": \"#E5ECF6\", \"width\": 0.5}}, \"type\": \"barpolar\"}], \"carpet\": [{\"aaxis\": {\"endlinecolor\": \"#2a3f5f\", \"gridcolor\": \"white\", \"linecolor\": \"white\", \"minorgridcolor\": \"white\", \"startlinecolor\": \"#2a3f5f\"}, \"baxis\": {\"endlinecolor\": \"#2a3f5f\", \"gridcolor\": \"white\", \"linecolor\": \"white\", \"minorgridcolor\": \"white\", \"startlinecolor\": \"#2a3f5f\"}, \"type\": \"carpet\"}], \"choropleth\": [{\"colorbar\": {\"outlinewidth\": 0, \"ticks\": \"\"}, \"type\": \"choropleth\"}], \"contour\": [{\"colorbar\": {\"outlinewidth\": 0, \"ticks\": \"\"}, \"colorscale\": [[0.0, \"#0d0887\"], [0.1111111111111111, \"#46039f\"], [0.2222222222222222, \"#7201a8\"], [0.3333333333333333, \"#9c179e\"], [0.4444444444444444, \"#bd3786\"], [0.5555555555555556, \"#d8576b\"], [0.6666666666666666, \"#ed7953\"], [0.7777777777777778, \"#fb9f3a\"], [0.8888888888888888, \"#fdca26\"], [1.0, \"#f0f921\"]], \"type\": \"contour\"}], \"contourcarpet\": [{\"colorbar\": {\"outlinewidth\": 0, \"ticks\": \"\"}, \"type\": \"contourcarpet\"}], \"heatmap\": [{\"colorbar\": {\"outlinewidth\": 0, \"ticks\": \"\"}, \"colorscale\": [[0.0, \"#0d0887\"], [0.1111111111111111, \"#46039f\"], [0.2222222222222222, \"#7201a8\"], [0.3333333333333333, \"#9c179e\"], [0.4444444444444444, \"#bd3786\"], [0.5555555555555556, \"#d8576b\"], [0.6666666666666666, \"#ed7953\"], [0.7777777777777778, \"#fb9f3a\"], [0.8888888888888888, \"#fdca26\"], [1.0, \"#f0f921\"]], \"type\": \"heatmap\"}], \"heatmapgl\": [{\"colorbar\": {\"outlinewidth\": 0, \"ticks\": \"\"}, \"colorscale\": [[0.0, \"#0d0887\"], [0.1111111111111111, \"#46039f\"], [0.2222222222222222, \"#7201a8\"], [0.3333333333333333, \"#9c179e\"], [0.4444444444444444, \"#bd3786\"], [0.5555555555555556, \"#d8576b\"], [0.6666666666666666, \"#ed7953\"], [0.7777777777777778, \"#fb9f3a\"], [0.8888888888888888, \"#fdca26\"], [1.0, \"#f0f921\"]], \"type\": \"heatmapgl\"}], \"histogram\": [{\"marker\": {\"colorbar\": {\"outlinewidth\": 0, \"ticks\": \"\"}}, \"type\": \"histogram\"}], \"histogram2d\": [{\"colorbar\": {\"outlinewidth\": 0, \"ticks\": \"\"}, \"colorscale\": [[0.0, \"#0d0887\"], [0.1111111111111111, \"#46039f\"], [0.2222222222222222, \"#7201a8\"], [0.3333333333333333, \"#9c179e\"], [0.4444444444444444, \"#bd3786\"], [0.5555555555555556, \"#d8576b\"], [0.6666666666666666, \"#ed7953\"], [0.7777777777777778, \"#fb9f3a\"], [0.8888888888888888, \"#fdca26\"], [1.0, \"#f0f921\"]], \"type\": \"histogram2d\"}], \"histogram2dcontour\": [{\"colorbar\": {\"outlinewidth\": 0, \"ticks\": \"\"}, \"colorscale\": [[0.0, \"#0d0887\"], [0.1111111111111111, \"#46039f\"], [0.2222222222222222, \"#7201a8\"], [0.3333333333333333, \"#9c179e\"], [0.4444444444444444, \"#bd3786\"], [0.5555555555555556, \"#d8576b\"], [0.6666666666666666, \"#ed7953\"], [0.7777777777777778, \"#fb9f3a\"], [0.8888888888888888, \"#fdca26\"], [1.0, \"#f0f921\"]], \"type\": \"histogram2dcontour\"}], \"mesh3d\": [{\"colorbar\": {\"outlinewidth\": 0, \"ticks\": \"\"}, \"type\": \"mesh3d\"}], \"parcoords\": [{\"line\": {\"colorbar\": {\"outlinewidth\": 0, \"ticks\": \"\"}}, \"type\": \"parcoords\"}], \"pie\": [{\"automargin\": true, \"type\": \"pie\"}], \"scatter\": [{\"marker\": {\"colorbar\": {\"outlinewidth\": 0, \"ticks\": \"\"}}, \"type\": \"scatter\"}], \"scatter3d\": [{\"line\": {\"colorbar\": {\"outlinewidth\": 0, \"ticks\": \"\"}}, \"marker\": {\"colorbar\": {\"outlinewidth\": 0, \"ticks\": \"\"}}, \"type\": \"scatter3d\"}], \"scattercarpet\": [{\"marker\": {\"colorbar\": {\"outlinewidth\": 0, \"ticks\": \"\"}}, \"type\": \"scattercarpet\"}], \"scattergeo\": [{\"marker\": {\"colorbar\": {\"outlinewidth\": 0, \"ticks\": \"\"}}, \"type\": \"scattergeo\"}], \"scattergl\": [{\"marker\": {\"colorbar\": {\"outlinewidth\": 0, \"ticks\": \"\"}}, \"type\": \"scattergl\"}], \"scattermapbox\": [{\"marker\": {\"colorbar\": {\"outlinewidth\": 0, \"ticks\": \"\"}}, \"type\": \"scattermapbox\"}], \"scatterpolar\": [{\"marker\": {\"colorbar\": {\"outlinewidth\": 0, \"ticks\": \"\"}}, \"type\": \"scatterpolar\"}], \"scatterpolargl\": [{\"marker\": {\"colorbar\": {\"outlinewidth\": 0, \"ticks\": \"\"}}, \"type\": \"scatterpolargl\"}], \"scatterternary\": [{\"marker\": {\"colorbar\": {\"outlinewidth\": 0, \"ticks\": \"\"}}, \"type\": \"scatterternary\"}], \"surface\": [{\"colorbar\": {\"outlinewidth\": 0, \"ticks\": \"\"}, \"colorscale\": [[0.0, \"#0d0887\"], [0.1111111111111111, \"#46039f\"], [0.2222222222222222, \"#7201a8\"], [0.3333333333333333, \"#9c179e\"], [0.4444444444444444, \"#bd3786\"], [0.5555555555555556, \"#d8576b\"], [0.6666666666666666, \"#ed7953\"], [0.7777777777777778, \"#fb9f3a\"], [0.8888888888888888, \"#fdca26\"], [1.0, \"#f0f921\"]], \"type\": \"surface\"}], \"table\": [{\"cells\": {\"fill\": {\"color\": \"#EBF0F8\"}, \"line\": {\"color\": \"white\"}}, \"header\": {\"fill\": {\"color\": \"#C8D4E3\"}, \"line\": {\"color\": \"white\"}}, \"type\": \"table\"}]}, \"layout\": {\"annotationdefaults\": {\"arrowcolor\": \"#2a3f5f\", \"arrowhead\": 0, \"arrowwidth\": 1}, \"coloraxis\": {\"colorbar\": {\"outlinewidth\": 0, \"ticks\": \"\"}}, \"colorscale\": {\"diverging\": [[0, \"#8e0152\"], [0.1, \"#c51b7d\"], [0.2, \"#de77ae\"], [0.3, \"#f1b6da\"], [0.4, \"#fde0ef\"], [0.5, \"#f7f7f7\"], [0.6, \"#e6f5d0\"], [0.7, \"#b8e186\"], [0.8, \"#7fbc41\"], [0.9, \"#4d9221\"], [1, \"#276419\"]], \"sequential\": [[0.0, \"#0d0887\"], [0.1111111111111111, \"#46039f\"], [0.2222222222222222, \"#7201a8\"], [0.3333333333333333, \"#9c179e\"], [0.4444444444444444, \"#bd3786\"], [0.5555555555555556, \"#d8576b\"], [0.6666666666666666, \"#ed7953\"], [0.7777777777777778, \"#fb9f3a\"], [0.8888888888888888, \"#fdca26\"], [1.0, \"#f0f921\"]], \"sequentialminus\": [[0.0, \"#0d0887\"], [0.1111111111111111, \"#46039f\"], [0.2222222222222222, \"#7201a8\"], [0.3333333333333333, \"#9c179e\"], [0.4444444444444444, \"#bd3786\"], [0.5555555555555556, \"#d8576b\"], [0.6666666666666666, \"#ed7953\"], [0.7777777777777778, \"#fb9f3a\"], [0.8888888888888888, \"#fdca26\"], [1.0, \"#f0f921\"]]}, \"colorway\": [\"#636efa\", \"#EF553B\", \"#00cc96\", \"#ab63fa\", \"#FFA15A\", \"#19d3f3\", \"#FF6692\", \"#B6E880\", \"#FF97FF\", \"#FECB52\"], \"font\": {\"color\": \"#2a3f5f\"}, \"geo\": {\"bgcolor\": \"white\", \"lakecolor\": \"white\", \"landcolor\": \"#E5ECF6\", \"showlakes\": true, \"showland\": true, \"subunitcolor\": \"white\"}, \"hoverlabel\": {\"align\": \"left\"}, \"hovermode\": \"closest\", \"mapbox\": {\"style\": \"light\"}, \"paper_bgcolor\": \"white\", \"plot_bgcolor\": \"#E5ECF6\", \"polar\": {\"angularaxis\": {\"gridcolor\": \"white\", \"linecolor\": \"white\", \"ticks\": \"\"}, \"bgcolor\": \"#E5ECF6\", \"radialaxis\": {\"gridcolor\": \"white\", \"linecolor\": \"white\", \"ticks\": \"\"}}, \"scene\": {\"xaxis\": {\"backgroundcolor\": \"#E5ECF6\", \"gridcolor\": \"white\", \"gridwidth\": 2, \"linecolor\": \"white\", \"showbackground\": true, \"ticks\": \"\", \"zerolinecolor\": \"white\"}, \"yaxis\": {\"backgroundcolor\": \"#E5ECF6\", \"gridcolor\": \"white\", \"gridwidth\": 2, \"linecolor\": \"white\", \"showbackground\": true, \"ticks\": \"\", \"zerolinecolor\": \"white\"}, \"zaxis\": {\"backgroundcolor\": \"#E5ECF6\", \"gridcolor\": \"white\", \"gridwidth\": 2, \"linecolor\": \"white\", \"showbackground\": true, \"ticks\": \"\", \"zerolinecolor\": \"white\"}}, \"shapedefaults\": {\"line\": {\"color\": \"#2a3f5f\"}}, \"ternary\": {\"aaxis\": {\"gridcolor\": \"white\", \"linecolor\": \"white\", \"ticks\": \"\"}, \"baxis\": {\"gridcolor\": \"white\", \"linecolor\": \"white\", \"ticks\": \"\"}, \"bgcolor\": \"#E5ECF6\", \"caxis\": {\"gridcolor\": \"white\", \"linecolor\": \"white\", \"ticks\": \"\"}}, \"title\": {\"x\": 0.05}, \"xaxis\": {\"automargin\": true, \"gridcolor\": \"white\", \"linecolor\": \"white\", \"ticks\": \"\", \"title\": {\"standoff\": 15}, \"zerolinecolor\": \"white\", \"zerolinewidth\": 2}, \"yaxis\": {\"automargin\": true, \"gridcolor\": \"white\", \"linecolor\": \"white\", \"ticks\": \"\", \"title\": {\"standoff\": 15}, \"zerolinecolor\": \"white\", \"zerolinewidth\": 2}}}, \"title\": {\"text\": \"Slice Plot\"}, \"width\": 1200, \"xaxis\": {\"anchor\": \"y\", \"domain\": [0.0, 0.2125], \"title\": {\"text\": \"classifier\"}}, \"xaxis2\": {\"anchor\": \"y2\", \"domain\": [0.2625, 0.475], \"title\": {\"text\": \"max_depth\"}, \"type\": \"log\"}, \"xaxis3\": {\"anchor\": \"y3\", \"domain\": [0.525, 0.7375], \"title\": {\"text\": \"n_estimators\"}}, \"xaxis4\": {\"anchor\": \"y4\", \"domain\": [0.7875, 1.0], \"title\": {\"text\": \"svc_c\"}, \"type\": \"log\"}, \"yaxis\": {\"anchor\": \"x\", \"domain\": [0.0, 1.0], \"title\": {\"text\": \"Objective Value\"}}, \"yaxis2\": {\"anchor\": \"x2\", \"domain\": [0.0, 1.0], \"matches\": \"y\", \"showticklabels\": false}, \"yaxis3\": {\"anchor\": \"x3\", \"domain\": [0.0, 1.0], \"matches\": \"y\", \"showticklabels\": false}, \"yaxis4\": {\"anchor\": \"x4\", \"domain\": [0.0, 1.0], \"matches\": \"y\", \"showticklabels\": false}},\n",
              "                        {\"responsive\": true}\n",
              "                    ).then(function(){\n",
              "                            \n",
              "var gd = document.getElementById('f5016b43-e541-412f-a1e5-4d0a2ca91ded');\n",
              "var x = new MutationObserver(function (mutations, observer) {{\n",
              "        var display = window.getComputedStyle(gd).display;\n",
              "        if (!display || display === 'none') {{\n",
              "            console.log([gd, 'removed!']);\n",
              "            Plotly.purge(gd);\n",
              "            observer.disconnect();\n",
              "        }}\n",
              "}});\n",
              "\n",
              "// Listen for the removal of the full notebook cells\n",
              "var notebookContainer = gd.closest('#notebook-container');\n",
              "if (notebookContainer) {{\n",
              "    x.observe(notebookContainer, {childList: true});\n",
              "}}\n",
              "\n",
              "// Listen for the clearing of the current output cell\n",
              "var outputEl = gd.closest('.output');\n",
              "if (outputEl) {{\n",
              "    x.observe(outputEl, {childList: true});\n",
              "}}\n",
              "\n",
              "                        })\n",
              "                };\n",
              "                \n",
              "            </script>\n",
              "        </div>\n",
              "</body>\n",
              "</html>"
            ]
          },
          "metadata": {}
        }
      ]
    },
    {
      "cell_type": "markdown",
      "metadata": {
        "id": "DK2LKHB7aw1r"
      },
      "source": [
        "Plotting the accuracy surface for the hyperparameters involved in the random forest model."
      ]
    },
    {
      "cell_type": "code",
      "metadata": {
        "id": "lZgZNBIRaw1r",
        "outputId": "1f01be9c-67cf-4286-c7f8-d0ced01f5fc7",
        "colab": {
          "base_uri": "https://localhost:8080/",
          "height": 542
        }
      },
      "source": [
        "optuna.visualization.plot_contour(study, params=['n_estimators', 'max_depth'])"
      ],
      "execution_count": 8,
      "outputs": [
        {
          "output_type": "display_data",
          "data": {
            "text/html": [
              "<html>\n",
              "<head><meta charset=\"utf-8\" /></head>\n",
              "<body>\n",
              "    <div>\n",
              "            <script src=\"https://cdnjs.cloudflare.com/ajax/libs/mathjax/2.7.5/MathJax.js?config=TeX-AMS-MML_SVG\"></script><script type=\"text/javascript\">if (window.MathJax) {MathJax.Hub.Config({SVG: {font: \"STIX-Web\"}});}</script>\n",
              "                <script type=\"text/javascript\">window.PlotlyConfig = {MathJaxConfig: 'local'};</script>\n",
              "        <script src=\"https://cdn.plot.ly/plotly-latest.min.js\"></script>    \n",
              "            <div id=\"7840ed67-b590-4fe0-9d34-cfd5fb9b800e\" class=\"plotly-graph-div\" style=\"height:525px; width:100%;\"></div>\n",
              "            <script type=\"text/javascript\">\n",
              "                \n",
              "                    window.PLOTLYENV=window.PLOTLYENV || {};\n",
              "                    \n",
              "                if (document.getElementById(\"7840ed67-b590-4fe0-9d34-cfd5fb9b800e\")) {\n",
              "                    Plotly.newPlot(\n",
              "                        '7840ed67-b590-4fe0-9d34-cfd5fb9b800e',\n",
              "                        [{\"colorbar\": {\"title\": {\"text\": \"Objective Value\"}}, \"colorscale\": [[0, \"rgb(5,10,172)\"], [0.35, \"rgb(40,60,190)\"], [0.5, \"rgb(70,100,245)\"], [0.6, \"rgb(90,120,245)\"], [0.7, \"rgb(106,137,247)\"], [1, \"rgb(220,220,220)\"]], \"connectgaps\": true, \"contours\": {\"coloring\": \"heatmap\"}, \"hoverinfo\": \"none\", \"line\": {\"smoothing\": 1.3}, \"reversescale\": false, \"type\": \"contour\", \"x\": [0.8751799959615849, 1.0363995018128809, 1.0692543590891082, 2.2897323690086133, 2.3461859901578968, 3.6255531843442057, 5.119967264940351, 9.846697001079479, 10.560481830817979, 15.47457983139648, 16.465107647660428, 29.115276886334076, 30.487615486170736, 36.10382966604844], \"y\": [1.1, 2, 7, 11, 14, 16, 19, 20, 20.9], \"z\": [[null, null, null, null, null, null, null, null, null, null, null, null, null, null], [null, 0.6666666666666666, null, null, null, 0.9333333333333332, null, null, null, null, null, null, null, null], [null, null, null, 0.9666666666666667, null, null, null, null, null, 0.96, null, 0.96, null, null], [null, null, null, null, null, null, 0.9466666666666667, null, null, null, 0.9466666666666667, null, null, null], [null, null, null, null, 0.9666666666666667, null, null, 0.96, null, null, null, null, null, null], [null, null, null, null, null, null, null, null, 0.9466666666666667, null, null, null, null, null], [null, null, null, null, null, null, null, null, null, null, null, null, 0.9666666666666667, null], [null, null, 0.9466666666666667, null, null, null, null, null, null, null, null, null, null, null], [null, null, null, null, null, null, null, null, null, null, null, null, null, null]]}, {\"marker\": {\"color\": \"black\", \"line\": {\"color\": \"Grey\", \"width\": 0.5}}, \"mode\": \"markers\", \"showlegend\": false, \"type\": \"scatter\", \"x\": [15.47457983139648, 5.119967264940351, 9.846697001079479, 1.0692543590891082, 1.0363995018128809, 30.487615486170736, 3.6255531843442057, 2.3461859901578968, 29.115276886334076, 10.560481830817979, 2.2897323690086133, 16.465107647660428], \"y\": [7, 11, 14, 20, 2, 19, 2, 14, 7, 16, 7, 11]}],\n",
              "                        {\"template\": {\"data\": {\"bar\": [{\"error_x\": {\"color\": \"#2a3f5f\"}, \"error_y\": {\"color\": \"#2a3f5f\"}, \"marker\": {\"line\": {\"color\": \"#E5ECF6\", \"width\": 0.5}}, \"type\": \"bar\"}], \"barpolar\": [{\"marker\": {\"line\": {\"color\": \"#E5ECF6\", \"width\": 0.5}}, \"type\": \"barpolar\"}], \"carpet\": [{\"aaxis\": {\"endlinecolor\": \"#2a3f5f\", \"gridcolor\": \"white\", \"linecolor\": \"white\", \"minorgridcolor\": \"white\", \"startlinecolor\": \"#2a3f5f\"}, \"baxis\": {\"endlinecolor\": \"#2a3f5f\", \"gridcolor\": \"white\", \"linecolor\": \"white\", \"minorgridcolor\": \"white\", \"startlinecolor\": \"#2a3f5f\"}, \"type\": \"carpet\"}], \"choropleth\": [{\"colorbar\": {\"outlinewidth\": 0, \"ticks\": \"\"}, \"type\": \"choropleth\"}], \"contour\": [{\"colorbar\": {\"outlinewidth\": 0, \"ticks\": \"\"}, \"colorscale\": [[0.0, \"#0d0887\"], [0.1111111111111111, \"#46039f\"], [0.2222222222222222, \"#7201a8\"], [0.3333333333333333, \"#9c179e\"], [0.4444444444444444, \"#bd3786\"], [0.5555555555555556, \"#d8576b\"], [0.6666666666666666, \"#ed7953\"], [0.7777777777777778, \"#fb9f3a\"], [0.8888888888888888, \"#fdca26\"], [1.0, \"#f0f921\"]], \"type\": \"contour\"}], \"contourcarpet\": [{\"colorbar\": {\"outlinewidth\": 0, \"ticks\": \"\"}, \"type\": \"contourcarpet\"}], \"heatmap\": [{\"colorbar\": {\"outlinewidth\": 0, \"ticks\": \"\"}, \"colorscale\": [[0.0, \"#0d0887\"], [0.1111111111111111, \"#46039f\"], [0.2222222222222222, \"#7201a8\"], [0.3333333333333333, \"#9c179e\"], [0.4444444444444444, \"#bd3786\"], [0.5555555555555556, \"#d8576b\"], [0.6666666666666666, \"#ed7953\"], [0.7777777777777778, \"#fb9f3a\"], [0.8888888888888888, \"#fdca26\"], [1.0, \"#f0f921\"]], \"type\": \"heatmap\"}], \"heatmapgl\": [{\"colorbar\": {\"outlinewidth\": 0, \"ticks\": \"\"}, \"colorscale\": [[0.0, \"#0d0887\"], [0.1111111111111111, \"#46039f\"], [0.2222222222222222, \"#7201a8\"], [0.3333333333333333, \"#9c179e\"], [0.4444444444444444, \"#bd3786\"], [0.5555555555555556, \"#d8576b\"], [0.6666666666666666, \"#ed7953\"], [0.7777777777777778, \"#fb9f3a\"], [0.8888888888888888, \"#fdca26\"], [1.0, \"#f0f921\"]], \"type\": \"heatmapgl\"}], \"histogram\": [{\"marker\": {\"colorbar\": {\"outlinewidth\": 0, \"ticks\": \"\"}}, \"type\": \"histogram\"}], \"histogram2d\": [{\"colorbar\": {\"outlinewidth\": 0, \"ticks\": \"\"}, \"colorscale\": [[0.0, \"#0d0887\"], [0.1111111111111111, \"#46039f\"], [0.2222222222222222, \"#7201a8\"], [0.3333333333333333, \"#9c179e\"], [0.4444444444444444, \"#bd3786\"], [0.5555555555555556, \"#d8576b\"], [0.6666666666666666, \"#ed7953\"], [0.7777777777777778, \"#fb9f3a\"], [0.8888888888888888, \"#fdca26\"], [1.0, \"#f0f921\"]], \"type\": \"histogram2d\"}], \"histogram2dcontour\": [{\"colorbar\": {\"outlinewidth\": 0, \"ticks\": \"\"}, \"colorscale\": [[0.0, \"#0d0887\"], [0.1111111111111111, \"#46039f\"], [0.2222222222222222, \"#7201a8\"], [0.3333333333333333, \"#9c179e\"], [0.4444444444444444, \"#bd3786\"], [0.5555555555555556, \"#d8576b\"], [0.6666666666666666, \"#ed7953\"], [0.7777777777777778, \"#fb9f3a\"], [0.8888888888888888, \"#fdca26\"], [1.0, \"#f0f921\"]], \"type\": \"histogram2dcontour\"}], \"mesh3d\": [{\"colorbar\": {\"outlinewidth\": 0, \"ticks\": \"\"}, \"type\": \"mesh3d\"}], \"parcoords\": [{\"line\": {\"colorbar\": {\"outlinewidth\": 0, \"ticks\": \"\"}}, \"type\": \"parcoords\"}], \"pie\": [{\"automargin\": true, \"type\": \"pie\"}], \"scatter\": [{\"marker\": {\"colorbar\": {\"outlinewidth\": 0, \"ticks\": \"\"}}, \"type\": \"scatter\"}], \"scatter3d\": [{\"line\": {\"colorbar\": {\"outlinewidth\": 0, \"ticks\": \"\"}}, \"marker\": {\"colorbar\": {\"outlinewidth\": 0, \"ticks\": \"\"}}, \"type\": \"scatter3d\"}], \"scattercarpet\": [{\"marker\": {\"colorbar\": {\"outlinewidth\": 0, \"ticks\": \"\"}}, \"type\": \"scattercarpet\"}], \"scattergeo\": [{\"marker\": {\"colorbar\": {\"outlinewidth\": 0, \"ticks\": \"\"}}, \"type\": \"scattergeo\"}], \"scattergl\": [{\"marker\": {\"colorbar\": {\"outlinewidth\": 0, \"ticks\": \"\"}}, \"type\": \"scattergl\"}], \"scattermapbox\": [{\"marker\": {\"colorbar\": {\"outlinewidth\": 0, \"ticks\": \"\"}}, \"type\": \"scattermapbox\"}], \"scatterpolar\": [{\"marker\": {\"colorbar\": {\"outlinewidth\": 0, \"ticks\": \"\"}}, \"type\": \"scatterpolar\"}], \"scatterpolargl\": [{\"marker\": {\"colorbar\": {\"outlinewidth\": 0, \"ticks\": \"\"}}, \"type\": \"scatterpolargl\"}], \"scatterternary\": [{\"marker\": {\"colorbar\": {\"outlinewidth\": 0, \"ticks\": \"\"}}, \"type\": \"scatterternary\"}], \"surface\": [{\"colorbar\": {\"outlinewidth\": 0, \"ticks\": \"\"}, \"colorscale\": [[0.0, \"#0d0887\"], [0.1111111111111111, \"#46039f\"], [0.2222222222222222, \"#7201a8\"], [0.3333333333333333, \"#9c179e\"], [0.4444444444444444, \"#bd3786\"], [0.5555555555555556, \"#d8576b\"], [0.6666666666666666, \"#ed7953\"], [0.7777777777777778, \"#fb9f3a\"], [0.8888888888888888, \"#fdca26\"], [1.0, \"#f0f921\"]], \"type\": \"surface\"}], \"table\": [{\"cells\": {\"fill\": {\"color\": \"#EBF0F8\"}, \"line\": {\"color\": \"white\"}}, \"header\": {\"fill\": {\"color\": \"#C8D4E3\"}, \"line\": {\"color\": \"white\"}}, \"type\": \"table\"}]}, \"layout\": {\"annotationdefaults\": {\"arrowcolor\": \"#2a3f5f\", \"arrowhead\": 0, \"arrowwidth\": 1}, \"coloraxis\": {\"colorbar\": {\"outlinewidth\": 0, \"ticks\": \"\"}}, \"colorscale\": {\"diverging\": [[0, \"#8e0152\"], [0.1, \"#c51b7d\"], [0.2, \"#de77ae\"], [0.3, \"#f1b6da\"], [0.4, \"#fde0ef\"], [0.5, \"#f7f7f7\"], [0.6, \"#e6f5d0\"], [0.7, \"#b8e186\"], [0.8, \"#7fbc41\"], [0.9, \"#4d9221\"], [1, \"#276419\"]], \"sequential\": [[0.0, \"#0d0887\"], [0.1111111111111111, \"#46039f\"], [0.2222222222222222, \"#7201a8\"], [0.3333333333333333, \"#9c179e\"], [0.4444444444444444, \"#bd3786\"], [0.5555555555555556, \"#d8576b\"], [0.6666666666666666, \"#ed7953\"], [0.7777777777777778, \"#fb9f3a\"], [0.8888888888888888, \"#fdca26\"], [1.0, \"#f0f921\"]], \"sequentialminus\": [[0.0, \"#0d0887\"], [0.1111111111111111, \"#46039f\"], [0.2222222222222222, \"#7201a8\"], [0.3333333333333333, \"#9c179e\"], [0.4444444444444444, \"#bd3786\"], [0.5555555555555556, \"#d8576b\"], [0.6666666666666666, \"#ed7953\"], [0.7777777777777778, \"#fb9f3a\"], [0.8888888888888888, \"#fdca26\"], [1.0, \"#f0f921\"]]}, \"colorway\": [\"#636efa\", \"#EF553B\", \"#00cc96\", \"#ab63fa\", \"#FFA15A\", \"#19d3f3\", \"#FF6692\", \"#B6E880\", \"#FF97FF\", \"#FECB52\"], \"font\": {\"color\": \"#2a3f5f\"}, \"geo\": {\"bgcolor\": \"white\", \"lakecolor\": \"white\", \"landcolor\": \"#E5ECF6\", \"showlakes\": true, \"showland\": true, \"subunitcolor\": \"white\"}, \"hoverlabel\": {\"align\": \"left\"}, \"hovermode\": \"closest\", \"mapbox\": {\"style\": \"light\"}, \"paper_bgcolor\": \"white\", \"plot_bgcolor\": \"#E5ECF6\", \"polar\": {\"angularaxis\": {\"gridcolor\": \"white\", \"linecolor\": \"white\", \"ticks\": \"\"}, \"bgcolor\": \"#E5ECF6\", \"radialaxis\": {\"gridcolor\": \"white\", \"linecolor\": \"white\", \"ticks\": \"\"}}, \"scene\": {\"xaxis\": {\"backgroundcolor\": \"#E5ECF6\", \"gridcolor\": \"white\", \"gridwidth\": 2, \"linecolor\": \"white\", \"showbackground\": true, \"ticks\": \"\", \"zerolinecolor\": \"white\"}, \"yaxis\": {\"backgroundcolor\": \"#E5ECF6\", \"gridcolor\": \"white\", \"gridwidth\": 2, \"linecolor\": \"white\", \"showbackground\": true, \"ticks\": \"\", \"zerolinecolor\": \"white\"}, \"zaxis\": {\"backgroundcolor\": \"#E5ECF6\", \"gridcolor\": \"white\", \"gridwidth\": 2, \"linecolor\": \"white\", \"showbackground\": true, \"ticks\": \"\", \"zerolinecolor\": \"white\"}}, \"shapedefaults\": {\"line\": {\"color\": \"#2a3f5f\"}}, \"ternary\": {\"aaxis\": {\"gridcolor\": \"white\", \"linecolor\": \"white\", \"ticks\": \"\"}, \"baxis\": {\"gridcolor\": \"white\", \"linecolor\": \"white\", \"ticks\": \"\"}, \"bgcolor\": \"#E5ECF6\", \"caxis\": {\"gridcolor\": \"white\", \"linecolor\": \"white\", \"ticks\": \"\"}}, \"title\": {\"x\": 0.05}, \"xaxis\": {\"automargin\": true, \"gridcolor\": \"white\", \"linecolor\": \"white\", \"ticks\": \"\", \"title\": {\"standoff\": 15}, \"zerolinecolor\": \"white\", \"zerolinewidth\": 2}, \"yaxis\": {\"automargin\": true, \"gridcolor\": \"white\", \"linecolor\": \"white\", \"ticks\": \"\", \"title\": {\"standoff\": 15}, \"zerolinecolor\": \"white\", \"zerolinewidth\": 2}}}, \"title\": {\"text\": \"Contour Plot\"}, \"xaxis\": {\"range\": [-0.057902617590609794, 1.5575532715626725], \"title\": {\"text\": \"max_depth\"}, \"type\": \"log\"}, \"yaxis\": {\"range\": [1.1, 20.9], \"title\": {\"text\": \"n_estimators\"}}},\n",
              "                        {\"responsive\": true}\n",
              "                    ).then(function(){\n",
              "                            \n",
              "var gd = document.getElementById('7840ed67-b590-4fe0-9d34-cfd5fb9b800e');\n",
              "var x = new MutationObserver(function (mutations, observer) {{\n",
              "        var display = window.getComputedStyle(gd).display;\n",
              "        if (!display || display === 'none') {{\n",
              "            console.log([gd, 'removed!']);\n",
              "            Plotly.purge(gd);\n",
              "            observer.disconnect();\n",
              "        }}\n",
              "}});\n",
              "\n",
              "// Listen for the removal of the full notebook cells\n",
              "var notebookContainer = gd.closest('#notebook-container');\n",
              "if (notebookContainer) {{\n",
              "    x.observe(notebookContainer, {childList: true});\n",
              "}}\n",
              "\n",
              "// Listen for the clearing of the current output cell\n",
              "var outputEl = gd.closest('.output');\n",
              "if (outputEl) {{\n",
              "    x.observe(outputEl, {childList: true});\n",
              "}}\n",
              "\n",
              "                        })\n",
              "                };\n",
              "                \n",
              "            </script>\n",
              "        </div>\n",
              "</body>\n",
              "</html>"
            ]
          },
          "metadata": {}
        }
      ]
    }
  ]
}